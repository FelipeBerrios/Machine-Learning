{
 "cells": [
  {
   "cell_type": "markdown",
   "metadata": {},
   "source": [
    "## Pregunta 3 Reconocimiento de Imágenes en CIFAR10"
   ]
  },
  {
   "cell_type": "markdown",
   "metadata": {},
   "source": [
    "#### Se extraen los diccionarios"
   ]
  },
  {
   "cell_type": "code",
   "execution_count": 2,
   "metadata": {
    "collapsed": false
   },
   "outputs": [],
   "source": [
    "def unpickle(file):\n",
    "    import cPickle\n",
    "    fo = open(file, 'rb')\n",
    "    dict = cPickle.load(fo)\n",
    "    fo.close()\n",
    "    return dict\n",
    "\n",
    "label_names = ['airplane', 'automobile', 'bird', 'cat', 'deer', 'dog', 'frog', 'horse', 'ship', 'truck']"
   ]
  },
  {
   "cell_type": "markdown",
   "metadata": {},
   "source": [
    "### a) Creación de los conjuntos de datos"
   ]
  },
  {
   "cell_type": "code",
   "execution_count": 3,
   "metadata": {
    "collapsed": false
   },
   "outputs": [],
   "source": [
    "from scipy.misc import imread\n",
    "import cPickle as pickle\n",
    "import numpy as np\n",
    "import os\n",
    "from sklearn.cross_validation import train_test_split\n",
    "from matplotlib import pyplot as plt\n",
    "%matplotlib inline\n",
    "\n",
    "def load_CIFAR_one(filename):\n",
    "    with open(filename, 'rb') as f:\n",
    "        datadict = pickle.load(f)\n",
    "        X = datadict['data']\n",
    "        Y = datadict['labels']\n",
    "        return X, np.array(Y, dtype=int)\n",
    "\n",
    "def load_CIFAR10(PATH):\n",
    "    xs = []\n",
    "    ys = []\n",
    "    for b in range(1,6):\n",
    "        f = os.path.join(PATH, 'data_batch_%d' % (b, ))\n",
    "        X, Y = load_CIFAR_one(f)\n",
    "        xs.append(X)\n",
    "        ys.append(Y)\n",
    "    Xtemp = np.concatenate(xs)\n",
    "    Ytemp = np.concatenate(ys)\n",
    "    del X, Y\n",
    "    Xte, Yte = load_CIFAR_one(os.path.join(PATH, 'test_batch'))\n",
    "    Xtr, Xv, Ytr, Yv = train_test_split(Xtemp, Ytemp, test_size=0.2, random_state=0)\n",
    "    del Xtemp, Ytemp\n",
    "    return Xtr, Ytr, Xte, Yte, Xv, Yv\n",
    "#you need to add Xval\n",
    "Xtr, Ytr, Xte, Yte, Xv, Yv = load_CIFAR10('.')"
   ]
  },
  {
   "cell_type": "markdown",
   "metadata": {},
   "source": [
    "### b) Escalamiento"
   ]
  },
  {
   "cell_type": "code",
   "execution_count": 4,
   "metadata": {
    "collapsed": false
   },
   "outputs": [
    {
     "name": "stderr",
     "output_type": "stream",
     "text": [
      "Using Theano backend.\n"
     ]
    }
   ],
   "source": [
    "from sklearn.preprocessing import StandardScaler\n",
    "\n",
    "def scaler_function(Xtr,Xt,Xv,scale=True):\n",
    "    scaler = StandardScaler(with_std=scale).fit(Xtr)\n",
    "    Xtr_scaled = scaler.transform(Xtr)\n",
    "    Xt_scaled = scaler.transform(Xt)\n",
    "    Xv_scaled = scaler.transform(Xv)\n",
    "    return Xtr_scaled, Xt_scaled, Xv_scaled\n",
    "\n",
    "Xtr, Xte, Xv = scaler_function(Xtr,Xte,Xv)\n",
    "\n",
    "from keras.utils.np_utils import to_categorical\n",
    "\n",
    "Ytr = to_categorical(Ytr)\n",
    "Yte = to_categorical(Yte)\n",
    "Yv = to_categorical(Yv)"
   ]
  },
  {
   "cell_type": "markdown",
   "metadata": {},
   "source": [
    "### c) Red Neuronal"
   ]
  },
  {
   "cell_type": "code",
   "execution_count": 4,
   "metadata": {
    "collapsed": false
   },
   "outputs": [],
   "source": [
    "from keras.models import Sequential\n",
    "from keras.layers import Dense, Activation, Dropout\n",
    "from keras.optimizers import SGD\n",
    "\n",
    "def do_red_neuronal(Xtr, Ytr, Xte, Yte, Xv, Yv):\n",
    "    model = Sequential()\n",
    "    model.add(Dense(100, input_dim=Xtr.shape[1], init='uniform', activation='relu'))\n",
    "    model.add(Dropout(0.1))\n",
    "    model.add(Dense(10, init='uniform', activation='softmax'))\n",
    "    model.compile(optimizer=SGD(lr=0.05), loss='binary_crossentropy', metrics=['accuracy'])\n",
    "    model.fit(Xtr, Ytr, nb_epoch=50, batch_size=32, verbose=0, validation_data=(Xv,Yv))\n",
    "    \n",
    "    scores = model.evaluate(Xtr, Ytr)\n",
    "    train_acc = scores[1]\n",
    "    scores = model.evaluate(Xv, Yv)\n",
    "    val_acc = scores[1]\n",
    "    scores = model.evaluate(Xte, Yte)\n",
    "    test_acc = scores[1]\n",
    "    \n",
    "    print \"\\nAccuracy de train: %f\"%(train_acc)\n",
    "    print \"Accuracy de validacion: %f\"%(val_acc)\n",
    "    print \"Accuracy de test: %f\"%(test_acc)"
   ]
  },
  {
   "cell_type": "code",
   "execution_count": 5,
   "metadata": {
    "collapsed": false
   },
   "outputs": [
    {
     "name": "stdout",
     "output_type": "stream",
     "text": [
      "10000/10000 [==============================] - 0s     \n",
      "\n",
      "Accuracy de train: 0.954353\n",
      "Accuracy de validacion: 0.916450\n",
      "Accuracy de test: 0.914510\n"
     ]
    }
   ],
   "source": [
    "do_red_neuronal(Xtr, Ytr, Xte, Yte, Xv, Yv)   "
   ]
  },
  {
   "cell_type": "markdown",
   "metadata": {},
   "source": [
    "### d) Red Neuronal: extract_features"
   ]
  },
  {
   "cell_type": "code",
   "execution_count": 6,
   "metadata": {
    "collapsed": false
   },
   "outputs": [],
   "source": [
    "Xtr, Ytr, Xte, Yte, Xv, Yv = load_CIFAR10('.')\n",
    "Ytr = to_categorical(Ytr)\n",
    "Yte = to_categorical(Yte)\n",
    "Yv = to_categorical(Yv)"
   ]
  },
  {
   "cell_type": "markdown",
   "metadata": {},
   "source": [
    "#### Feature: Histograma de Tono"
   ]
  },
  {
   "cell_type": "code",
   "execution_count": 10,
   "metadata": {
    "collapsed": false
   },
   "outputs": [
    {
     "name": "stdout",
     "output_type": "stream",
     "text": [
      "(40000L, 32L, 32L, 3L)\n",
      "(10000L, 32L, 32L, 3L)\n",
      "(10000L, 32L, 32L, 3L)\n"
     ]
    }
   ],
   "source": [
    "from top_level_features import color_histogram_hsv\n",
    "from top_level_features import hog_features\n",
    "from top_level_features import extract_features\n",
    "features_train = extract_features(Xtr,[color_histogram_hsv]) #extrae histogramas de color\n",
    "features_test = extract_features(Xte,[color_histogram_hsv]) #extrae histogramas de color\n",
    "features_val = extract_features(Xv,[color_histogram_hsv]) #extrae histogramas de color\n",
    "\n",
    "print Xtr.shape\n",
    "print features_train.shape"
   ]
  },
  {
   "cell_type": "code",
   "execution_count": 14,
   "metadata": {
    "collapsed": true
   },
   "outputs": [],
   "source": [
    "#features_train, features_test, features_val = scaler_function(features_train,features_test,features_val)"
   ]
  },
  {
   "cell_type": "code",
   "execution_count": 11,
   "metadata": {
    "collapsed": false
   },
   "outputs": [
    {
     "name": "stdout",
     "output_type": "stream",
     "text": [
      " 9664/10000 [===========================>..] - ETA: 0s\n",
      "Accuracy de train: 0.900000\n",
      "Accuracy de validacion: 0.900000\n",
      "Accuracy de test: 0.900000\n"
     ]
    }
   ],
   "source": [
    "do_red_neuronal(features_train, Ytr, features_test, Yte, features_val, Yv)"
   ]
  },
  {
   "cell_type": "markdown",
   "metadata": {},
   "source": [
    "#### Feature: Descriptores HOG"
   ]
  },
  {
   "cell_type": "code",
   "execution_count": 12,
   "metadata": {
    "collapsed": false
   },
   "outputs": [
    {
     "name": "stdout",
     "output_type": "stream",
     "text": [
      "(40000L, 32L, 32L, 3L)\n",
      "(10000L, 32L, 32L, 3L)\n",
      "(10000L, 32L, 32L, 3L)\n",
      "(40000L, 3072L)\n",
      "(40000L, 144L)\n"
     ]
    }
   ],
   "source": [
    "features_train = extract_features(Xtr,[hog_features]) #extrae hog features\n",
    "features_test = extract_features(Xte,[hog_features]) #extrae hog features\n",
    "features_val = extract_features(Xv,[hog_features]) #extrae hog features\n",
    "\n",
    "print Xtr.shape\n",
    "print features_train.shape"
   ]
  },
  {
   "cell_type": "code",
   "execution_count": 13,
   "metadata": {
    "collapsed": false
   },
   "outputs": [
    {
     "name": "stdout",
     "output_type": "stream",
     "text": [
      " 9824/10000 [============================>.] - ETA: 0s\n",
      "Accuracy de train: 0.939175\n",
      "Accuracy de validacion: 0.923140\n",
      "Accuracy de test: 0.923400\n"
     ]
    }
   ],
   "source": [
    "do_red_neuronal(features_train, Ytr, features_test, Yte, features_val, Yv)"
   ]
  },
  {
   "cell_type": "markdown",
   "metadata": {},
   "source": [
    "#### Feature: Híbrido (HOG e Histograma)"
   ]
  },
  {
   "cell_type": "code",
   "execution_count": 14,
   "metadata": {
    "collapsed": false
   },
   "outputs": [
    {
     "name": "stdout",
     "output_type": "stream",
     "text": [
      "(40000L, 32L, 32L, 3L)\n",
      "(10000L, 32L, 32L, 3L)\n",
      "(10000L, 32L, 32L, 3L)\n",
      "(40000L, 3072L)\n",
      "(40000L, 154L)\n"
     ]
    }
   ],
   "source": [
    "features_train = extract_features(Xtr,[hog_features, color_histogram_hsv]) #extrae todo\n",
    "features_test = extract_features(Xte,[hog_features, color_histogram_hsv]) #extrae todo\n",
    "features_val = extract_features(Xv,[hog_features, color_histogram_hsv]) #extrae todo\n",
    "\n",
    "print Xtr.shape\n",
    "print features_train.shape"
   ]
  },
  {
   "cell_type": "code",
   "execution_count": 50,
   "metadata": {
    "collapsed": true
   },
   "outputs": [],
   "source": [
    "#features_train, features_test, features_val = scaler_function(features_train,features_test,features_val)"
   ]
  },
  {
   "cell_type": "code",
   "execution_count": 15,
   "metadata": {
    "collapsed": false
   },
   "outputs": [
    {
     "name": "stdout",
     "output_type": "stream",
     "text": [
      " 9856/10000 [============================>.] - ETA: 0s\n",
      "Accuracy de train: 0.941618\n",
      "Accuracy de validacion: 0.925220\n",
      "Accuracy de test: 0.925630\n"
     ]
    }
   ],
   "source": [
    "do_red_neuronal(features_train, Ytr, features_test, Yte, features_val, Yv)"
   ]
  },
  {
   "cell_type": "markdown",
   "metadata": {
    "collapsed": true
   },
   "source": [
    "### e) SVM No-Lineal"
   ]
  },
  {
   "cell_type": "markdown",
   "metadata": {},
   "source": [
    "En primer lugar se debe resaltar que Kenalizar una SVM tiene un costo elevado de aproximadamente $O(n_{features}× n^{2}_{data})$. Además en la documentación de sklearn expecifica que para data sets con más de 10000 datos es difícil de escalar ([scikit-learn: SVM](http://scikit-learn.org/stable/modules/generated/sklearn.svm.SVC.html)). Lo cual vuelve inviable la utilizan de una SVM no lineal en este problema, ya que se tienen 40000 datos de entrenamiento y 3072 caráctiristicas. Por lo tanto se opto por reducir el conjunto de datos a 10000."
   ]
  },
  {
   "cell_type": "code",
   "execution_count": 5,
   "metadata": {
    "collapsed": false
   },
   "outputs": [
    {
     "name": "stderr",
     "output_type": "stream",
     "text": [
      "C:\\Users\\theda\\Anaconda2\\lib\\site-packages\\sklearn\\utils\\validation.py:420: DataConversionWarning: Data with input dtype uint8 was converted to float64 by StandardScaler.\n",
      "  warnings.warn(msg, DataConversionWarning)\n",
      "C:\\Users\\theda\\Anaconda2\\lib\\site-packages\\sklearn\\utils\\validation.py:420: DataConversionWarning: Data with input dtype uint8 was converted to float64 by StandardScaler.\n",
      "  warnings.warn(msg, DataConversionWarning)\n",
      "C:\\Users\\theda\\Anaconda2\\lib\\site-packages\\sklearn\\utils\\validation.py:420: DataConversionWarning: Data with input dtype uint8 was converted to float64 by StandardScaler.\n",
      "  warnings.warn(msg, DataConversionWarning)\n",
      "C:\\Users\\theda\\Anaconda2\\lib\\site-packages\\sklearn\\utils\\validation.py:420: DataConversionWarning: Data with input dtype uint8 was converted to float64 by StandardScaler.\n",
      "  warnings.warn(msg, DataConversionWarning)\n"
     ]
    }
   ],
   "source": [
    "Xtr, Ytr, Xte, Yte, Xv, Yv = load_CIFAR10('.')\n",
    "Xtr= Xtr[0:10000]\n",
    "Ytr = Ytr[0:10000]\n",
    "Xtr, Xte, Xv = scaler_function(Xtr,Xte,Xv)"
   ]
  },
  {
   "cell_type": "code",
   "execution_count": 6,
   "metadata": {
    "collapsed": true
   },
   "outputs": [],
   "source": [
    "from sklearn.svm import SVC\n",
    "\n",
    "def do_SVM_no_lineal(x,y,xt,yt,xv,yv,model_type,best):\n",
    "    Cs = np.logspace(-2, 4,base=2, num=7)\n",
    "    acc_val = []\n",
    "    models = []\n",
    "    for C in Cs:\n",
    "        if model_type == 'rbf':\n",
    "            clf = SVC(C=C, kernel='rbf')\n",
    "        elif model_type == 'poly':\n",
    "            clf = SVC(C=C, kernel='poly',degree=2, coef0=1)\n",
    "\n",
    "        clf=clf.fit(x,y)\n",
    "                \n",
    "        acc_val.append(clf.score(xv,yv))\n",
    "        models.append(clf)\n",
    "\n",
    "    if best:\n",
    "        best_ = acc_val.index(max(acc_val))\n",
    "        C_b = Cs[best_]\n",
    "        model_b = models[best_]\n",
    "        print \"Mejor parámetro de regularización C: %s\"%(C_b)\n",
    "        print \"Mejor Accuracy de validación: %f\"%(max(acc_val))\n",
    "        print \"\\nAccuracy de entrenamiento: %f\"%(model_b.score(x,y))\n",
    "        print \"Accuracy de prueba: %f\"%(model_b.score(xt,yt))\n",
    "        \n",
    "        plt.figure(figsize=(10,5))\n",
    "        ax = plt.gca()\n",
    "        #ax.plot(Cs,acc_tr,label='Accuracy train')\n",
    "        ax.plot(Cs,acc_val,label=u'Accuracy validación')\n",
    "        #plt.legend(bbox_to_anchor=(1.05, 1), loc=2, borderaxespad=0.)\n",
    "        plt.xlabel('C', fontsize= 16)\n",
    "        plt.ylabel('Accuracy', fontsize= 16)\n",
    "        plt.title('SVM no Lineal con kernel %s'%(model_type), fontsize= 20)\n",
    "        ax.set_xscale('linear')\n",
    "        plt.show()\n",
    "        \n",
    "    return 0"
   ]
  },
  {
   "cell_type": "code",
   "execution_count": 8,
   "metadata": {
    "collapsed": false
   },
   "outputs": [
    {
     "name": "stdout",
     "output_type": "stream",
     "text": [
      "Mejor parámetro de regularización C: 4.0\n",
      "Mejor Accuracy de validación: 0.489700\n",
      "\n",
      "Accuracy de entrenamiento: 0.957200\n",
      "Accuracy de prueba: 0.487100\n"
     ]
    },
    {
     "data": {
      "image/png": "[encoded data removed]",
      "text/plain": [
       "<matplotlib.figure.Figure at 0xc0564e0>"
      ]
     },
     "metadata": {},
     "output_type": "display_data"
    },
    {
     "data": {
      "text/plain": [
       "SVC(C=4.0, cache_size=200, class_weight=None, coef0=0.0,\n",
       "  decision_function_shape=None, degree=3, gamma='auto', kernel='rbf',\n",
       "  max_iter=-1, probability=False, random_state=None, shrinking=True,\n",
       "  tol=0.001, verbose=False)"
      ]
     },
     "execution_count": 8,
     "metadata": {},
     "output_type": "execute_result"
    }
   ],
   "source": [
    "do_SVM_no_lineal(Xtr, Ytr, Xte, Yte, Xv, Yv, 'rbf', best=True)"
   ]
  },
  {
   "cell_type": "code",
   "execution_count": null,
   "metadata": {
    "collapsed": false
   },
   "outputs": [],
   "source": [
    "do_SVM_no_lineal(Xtr, Ytr, Xte, Yte, Xv, Yv, 'poly', best=True)"
   ]
  },
  {
   "cell_type": "markdown",
   "metadata": {},
   "source": [
    "#### Feature: Histograma de Tono"
   ]
  },
  {
   "cell_type": "code",
   "execution_count": null,
   "metadata": {
    "collapsed": true
   },
   "outputs": [],
   "source": [
    "features_train = extract_features(Xtr,[color_histogram_hsv]) #extrae histogramas de color\n",
    "features_test = extract_features(Xte,[color_histogram_hsv]) #extrae histogramas de color\n",
    "features_val = extract_features(Xv,[color_histogram_hsv]) #extrae histogramas de color"
   ]
  },
  {
   "cell_type": "code",
   "execution_count": null,
   "metadata": {
    "collapsed": true
   },
   "outputs": [],
   "source": [
    "do_SVM_no_lineal(features_train, Ytr, features_test, features_val, Xv, Yv, 'rbf', best=True)\n",
    "#do_SVM_no_lineal(features_train, Ytr, features_test, features_val, Xv, Yv, 'poly', best=True)"
   ]
  },
  {
   "cell_type": "markdown",
   "metadata": {},
   "source": [
    "#### Feature: Descriptores HOG"
   ]
  },
  {
   "cell_type": "code",
   "execution_count": null,
   "metadata": {
    "collapsed": true
   },
   "outputs": [],
   "source": [
    "features_train = extract_features(Xtr,[hog_features]) #extrae hog features\n",
    "features_test = extract_features(Xte,[hog_features]) #extrae hog features\n",
    "features_val = extract_features(Xv,[hog_features]) #extrae hog features"
   ]
  },
  {
   "cell_type": "code",
   "execution_count": null,
   "metadata": {
    "collapsed": true
   },
   "outputs": [],
   "source": [
    "do_SVM_no_lineal(features_train, Ytr, features_test, features_val, Xv, Yv, 'rbf', best=True)\n",
    "#do_SVM_no_lineal(features_train, Ytr, features_test, features_val, Xv, Yv, 'poly', best=True)"
   ]
  },
  {
   "cell_type": "markdown",
   "metadata": {},
   "source": [
    "#### Feature: Híbrido (HOG e Histograma)"
   ]
  },
  {
   "cell_type": "code",
   "execution_count": null,
   "metadata": {
    "collapsed": true
   },
   "outputs": [],
   "source": [
    "features_train = extract_features(Xtr,[hog_features, color_histogram_hsv]) #extrae todo\n",
    "features_test = extract_features(Xte,[hog_features, color_histogram_hsv]) #extrae todo\n",
    "features_val = extract_features(Xv,[hog_features, color_histogram_hsv]) #extrae todo"
   ]
  },
  {
   "cell_type": "code",
   "execution_count": null,
   "metadata": {
    "collapsed": true
   },
   "outputs": [],
   "source": [
    "do_SVM_no_lineal(features_train, Ytr, features_test, features_val, Xv, Yv, 'rbf', best=True)\n",
    "do_SVM_no_lineal(features_train, Ytr, features_test, features_val, Xv, Yv, 'poly', best=True)"
   ]
  },
  {
   "cell_type": "markdown",
   "metadata": {},
   "source": [
    "#### SVM son Inviables o.ó"
   ]
  },
  {
   "cell_type": "markdown",
   "metadata": {},
   "source": [
    "### Árbol de clasificación"
   ]
  },
  {
   "cell_type": "code",
   "execution_count": 19,
   "metadata": {
    "collapsed": true
   },
   "outputs": [],
   "source": [
    "Xtr, Ytr, Xte, Yte, Xv, Yv = load_CIFAR10('.')"
   ]
  },
  {
   "cell_type": "code",
   "execution_count": 20,
   "metadata": {
    "collapsed": true
   },
   "outputs": [],
   "source": [
    "from sklearn.tree import DecisionTreeClassifier as Tree\n",
    "\n",
    "def do_Tree(x,y,xt,yt,xv,yv):\n",
    "    N_ts = np.linspace(2, 20, num=20)\n",
    "    acc_val = []\n",
    "    models = []\n",
    "    for n_t in N_ts:\n",
    "        clf=Tree(criterion='gini',splitter='best',random_state=0,max_depth=n_t)\n",
    "        clf=clf.fit(x,y)\n",
    "        acc_val.append(clf.score(xv,yv))\n",
    "        models.append(clf)\n",
    "    best_ = acc_val.index(max(acc_val))            \n",
    "    model_best = models[best_]\n",
    "    \n",
    "    print \"Profundidad del mejor árbol = %d\"%model_best.tree_.max_depth\n",
    "    print \"Mejor Accuracy de validación: %f\"%(max(acc_val))\n",
    "    print \"\\nAccuracy de entrenamiento: %f\"%(model_best.score(x,y))\n",
    "    print \"Accuracy de prueba: %f\"%(model_best.score(xt,yt))\n",
    "    \n",
    "    plt.figure(figsize=(10,5))\n",
    "    ax = plt.gca()\n",
    "    #ax.plot(N_ts,acc_tr,label='Accuracy train')\n",
    "    ax.plot(N_ts,acc_val,label=u'Accuracy validación')\n",
    "\n",
    "    #plt.legend(bbox_to_anchor=(1.05, 1), loc=2, borderaxespad=0.)\n",
    "    plt.xlabel('N_t', fontsize= 16)\n",
    "    plt.ylabel('Accuracy', fontsize= 16)\n",
    "    plt.title(u'Árbol de clasificacion con múltiples niveles', fontsize= 20)\n",
    "    ax.set_xscale('linear')\n",
    "    plt.show()\n",
    "        \n",
    "    return 0"
   ]
  },
  {
   "cell_type": "code",
   "execution_count": 21,
   "metadata": {
    "collapsed": false
   },
   "outputs": [
    {
     "name": "stdout",
     "output_type": "stream",
     "text": [
      "Profundidad del mejor árbol = 9\n",
      "Mejor Accuracy de validación: 0.298300\n",
      "\n",
      "Accuracy de entrenamiento: 0.390000\n",
      "Accuracy de prueba: 0.302000\n"
     ]
    },
    {
     "data": {
      "image/png": "[encoded data removed]",
      "text/plain": [
       "<matplotlib.figure.Figure at 0xa749b70>"
      ]
     },
     "metadata": {},
     "output_type": "display_data"
    },
    {
     "data": {
      "text/plain": [
       "0"
      ]
     },
     "execution_count": 21,
     "metadata": {},
     "output_type": "execute_result"
    }
   ],
   "source": [
    "do_Tree(Xtr, Ytr, Xte, Yte, Xv, Yv)"
   ]
  },
  {
   "cell_type": "markdown",
   "metadata": {},
   "source": [
    "#### Feature: Histograma de Tono"
   ]
  },
  {
   "cell_type": "code",
   "execution_count": null,
   "metadata": {
    "collapsed": true
   },
   "outputs": [],
   "source": [
    "features_train = extract_features(Xtr,[color_histogram_hsv]) #extrae histogramas de color\n",
    "features_test = extract_features(Xte,[color_histogram_hsv]) #extrae histogramas de color\n",
    "features_val = extract_features(Xv,[color_histogram_hsv]) #extrae histogramas de color"
   ]
  },
  {
   "cell_type": "code",
   "execution_count": null,
   "metadata": {
    "collapsed": true
   },
   "outputs": [],
   "source": [
    "do_Tree(features_train, Ytr, features_test, Yte, features_val, Yv)"
   ]
  },
  {
   "cell_type": "markdown",
   "metadata": {},
   "source": [
    "#### Feature: Descriptores HOG"
   ]
  },
  {
   "cell_type": "code",
   "execution_count": null,
   "metadata": {
    "collapsed": false
   },
   "outputs": [],
   "source": [
    "features_train = extract_features(Xtr,[hog_features]) #extrae hog features\n",
    "features_test = extract_features(Xte,[hog_features]) #extrae hog features\n",
    "features_val = extract_features(Xv,[hog_features]) #extrae hog features"
   ]
  },
  {
   "cell_type": "code",
   "execution_count": null,
   "metadata": {
    "collapsed": true
   },
   "outputs": [],
   "source": [
    "do_Tree(features_train, Ytr, features_test, Yte, features_val, Yv)"
   ]
  },
  {
   "cell_type": "markdown",
   "metadata": {},
   "source": [
    "#### Feature: Híbrido (HOG e Histograma)"
   ]
  },
  {
   "cell_type": "code",
   "execution_count": null,
   "metadata": {
    "collapsed": true
   },
   "outputs": [],
   "source": [
    "features_train = extract_features(Xtr,[hog_features, color_histogram_hsv]) #extrae todo\n",
    "features_test = extract_features(Xte,[hog_features, color_histogram_hsv]) #extrae todo\n",
    "features_val = extract_features(Xv,[hog_features, color_histogram_hsv]) #extrae todo"
   ]
  },
  {
   "cell_type": "code",
   "execution_count": null,
   "metadata": {
    "collapsed": true
   },
   "outputs": [],
   "source": [
    "do_Tree(features_train, Ytr, features_test, Yte, features_val, Yv)"
   ]
  },
  {
   "cell_type": "code",
   "execution_count": null,
   "metadata": {
    "collapsed": true
   },
   "outputs": [],
   "source": []
  }
 ],
 "metadata": {
  "anaconda-cloud": {},
  "kernelspec": {
   "display_name": "Python [Root]",
   "language": "python",
   "name": "Python [Root]"
  },
  "language_info": {
   "codemirror_mode": {
    "name": "ipython",
    "version": 2
   },
   "file_extension": ".py",
   "mimetype": "text/x-python",
   "name": "python",
   "nbconvert_exporter": "python",
   "pygments_lexer": "ipython2",
   "version": "2.7.12"
  }
 },
 "nbformat": 4,
 "nbformat_minor": 0
}
