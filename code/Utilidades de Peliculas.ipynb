{
 "cells": [
  {
   "cell_type": "markdown",
   "metadata": {
    "collapsed": false
   },
   "source": [
    "# Predicción de Utilidades de Películas"
   ]
  },
  {
   "cell_type": "markdown",
   "metadata": {},
   "source": [
    "### a) Lectura y carga de archivos"
   ]
  },
  {
   "cell_type": "code",
   "execution_count": 1,
   "metadata": {
    "collapsed": false
   },
   "outputs": [
    {
     "name": "stdout",
     "output_type": "stream",
     "text": [
      "Tiempo de lectura es:  48.7380001545\n"
     ]
    }
   ],
   "source": [
    "import pandas as pd\n",
    "import numpy as np\n",
    "from scipy.sparse import csr_matrix\n",
    "from scipy.io import mmread\n",
    "from sklearn.linear_model import ElasticNet\n",
    "from time import time\n",
    "import matplotlib.pyplot as plt\n",
    "%matplotlib inline\n",
    "\n",
    "#Se leen y cargan datos de entrenamiento\n",
    "tiempo_lec_ini = time()\n",
    "X = csr_matrix(mmread('../data/train.x.mm'))\n",
    "y = np.loadtxt('../data/train.y.dat')\n",
    "\n",
    "#Se Leen y cargan datos de validacion\n",
    "X_val = csr_matrix(mmread('../data/dev.x.mm'))\n",
    "y_val = np.loadtxt('../data/dev.y.dat')\n",
    "\n",
    "#Se Leen y cargan datos de validacion\n",
    "X_test = csr_matrix(mmread('../data/test.x.mm'))\n",
    "y_test = np.loadtxt('../data/test.y.dat')\n",
    "\n",
    "tiempo_lec_fin = time()\n",
    "print \"Tiempo de lectura es: \", (tiempo_lec_fin - tiempo_lec_ini)"
   ]
  },
  {
   "cell_type": "markdown",
   "metadata": {},
   "source": [
    "Es importante mantener el formato disperso (*sparse*) debido a que permite mantener en memoria sólo las entradas no nulas de la matriz. Esto es óptimo cuando las matrices son demasiado grandes en comparación con la cantidad de entradas no nulas, es decir, una matriz dispersa. Para este caso en el archivo de entrenamiento, se tiene 1.147 filas y 145.256 columnas por tanto el tamaño de la matriz es de 166.608.632 celdas, pero sólo se tienen 2.764.110 entradas no lunas. De esta manera, es mucho más conveniente y **eficiente** almacenar la matriz de manera dispersa, esto es, sólo los 2.764.110 datos en vez de la matriz entera."
   ]
  },
  {
   "cell_type": "markdown",
   "metadata": {},
   "source": [
    "### b) Construcción del modelo\n",
    "Se utiliza el modelo ElasticNet propuesto en el paper \"*Movie Reviews and Revenues: An Experiment in Text Regression*\". El cual es una regresión lineal que combina la norma L1 y L2 para penalizar, como se expresa en la siguiente ecuación:\n",
    "$$\\widehat{\\theta} = argmin\\frac{1}{2n} \\sum_{i=0}^n (y_i - (\\beta_0 + x_i^T\\beta)^2  + \\lambda P(B)$$\n",
    "$$P(B) = \\sum_{j=0}^p (\\frac{1}{2}(1-\\alpha)\\beta_j^2 + \\alpha |\\beta_j|)$$\n",
    "El parámetro $\\alpha$ es un valor que va de 0 a 1 e indica el *tradeoff* entre las penalizaciones. Si es 0 significa que se penaliza mediante Ridge y si es 1 con Lasso.\n",
    "Para experimentar se fijo el valor de $\\alpha$ y se regularizó $\\lambda$ con valores en el intervalo $[10^{-2}, 10]$. Una vez terminado el ciclo de iteraciones se guarda el mejor $\\lambda_{best}$ para un $\\alpha$ determinado. Luego, se cambia el valor de $\\alpha$ y se vuelve a iterar. Los valores considerados para el parámetro $\\alpha$ son $[0,0.25,0.5,0.75,1]$ debido al tiempo de ejecución. Una vez encontrado los mejores $\\lambda_{best}$ para cada $\\alpha$, se genera el modelo con el mejor par $\\lambda_{best}$, $\\alpha$ y se procede a usar el conjunto de prueba para determinar el coeficiente de determinación."
   ]
  },
  {
   "cell_type": "code",
   "execution_count": 2,
   "metadata": {
    "collapsed": false
   },
   "outputs": [
    {
     "name": "stderr",
     "output_type": "stream",
     "text": [
      "C:\\Users\\theda\\Anaconda2\\lib\\site-packages\\sklearn\\linear_model\\coordinate_descent.py:466: ConvergenceWarning: Objective did not converge. You might want to increase the number of iterations\n",
      "  ConvergenceWarning)\n"
     ]
    },
    {
     "data": {
      "image/png": "[encoded data removed]",
      "text/plain": [
       "<matplotlib.figure.Figure at 0xb371dd8>"
      ]
     },
     "metadata": {},
     "output_type": "display_data"
    },
    {
     "name": "stdout",
     "output_type": "stream",
     "text": [
      "Para un alpha de 2.39502661999 y l1_ratio de 0 el mejor coeficiente para el conjunto de evaluacion es: 0.62548733486 \n"
     ]
    }
   ],
   "source": [
    "#Se fija el valor de l1_ratio en 0 y se mueve el valor de alpha\n",
    "best_score = []\n",
    "b = 0\n",
    "#Lista de valores de alpha\n",
    "alphas_ = np.logspace(-2, 1, num=30, base=10)\n",
    "coefs = []\n",
    "model = ElasticNet(fit_intercept = False)\n",
    "#print '{:^15} {:^10} {:^15}'.format('alpha', 'l1_ratio', 'coef_validation')\n",
    "for a in alphas_:\n",
    "    model.set_params(alpha = a, l1_ratio = b)\n",
    "    model.fit(X, y)\n",
    "    coef = model.score(X_val, y_val)\n",
    "    coefs.append(coef)\n",
    "    #print '{:^15} {:^10} {:^15}'.format(a, b, coef)\n",
    "\n",
    "best_alpha = alphas_[coefs.index(max(coefs))]\n",
    "best_score.append((max(coefs),best_alpha, b))\n",
    "\n",
    "plt.plot(alphas_, coefs)\n",
    "plt.ylabel('R2 Validacion')\n",
    "plt.xlabel('lambda')\n",
    "plt.title('R2 para un l1_ratio = 0')\n",
    "plt.show()\n",
    "\n",
    "print 'Para un alpha de {} y l1_ratio de {} el mejor coeficiente para el conjunto de evaluacion es: {} '.format(best_alpha,b,(max(coefs)))"
   ]
  },
  {
   "cell_type": "code",
   "execution_count": 3,
   "metadata": {
    "collapsed": false
   },
   "outputs": [
    {
     "data": {
      "image/png": "[encoded data removed]",
      "text/plain": [
       "<matplotlib.figure.Figure at 0xb371d68>"
      ]
     },
     "metadata": {},
     "output_type": "display_data"
    },
    {
     "name": "stdout",
     "output_type": "stream",
     "text": [
      "Para un alpha de 3.03919538231 y l1_ratio de 0.25 el mejor coeficiente para el conjunto de evaluacion es: 0.625515714326 \n"
     ]
    }
   ],
   "source": [
    "b = 0.25\n",
    "alphas_ = np.logspace(-2, 1, num=30, base=10)\n",
    "coefs = []\n",
    "model = ElasticNet(fit_intercept = False)\n",
    "#print '{:^15} {:^10} {:^15}'.format('alpha', 'l1_ratio', 'coef_validation')\n",
    "for a in alphas_:\n",
    "    model.set_params(alpha = a, l1_ratio = b)\n",
    "    model.fit(X, y)\n",
    "    coef = model.score(X_val, y_val)\n",
    "    coefs.append(coef)\n",
    "    #print '{:^15} {:^10} {:^15}'.format(a, b, coef)\n",
    "\n",
    "best_alpha = alphas_[coefs.index(max(coefs))]\n",
    "best_score.append((max(coefs),best_alpha, b))\n",
    "\n",
    "plt.plot(alphas_, coefs)\n",
    "plt.ylabel('R2 Validacion')\n",
    "plt.xlabel('lambda')\n",
    "plt.title('R2 para un l1_ratio = 0.25')\n",
    "plt.show()\n",
    "print 'Para un alpha de {} y l1_ratio de {} el mejor coeficiente para el conjunto de evaluacion es: {} '.format(best_alpha,b,max(coefs))"
   ]
  },
  {
   "cell_type": "code",
   "execution_count": 5,
   "metadata": {
    "collapsed": false
   },
   "outputs": [
    {
     "data": {
      "image/png": "[encoded data removed]",
      "text/plain": [
       "<matplotlib.figure.Figure at 0x3cdcba8>"
      ]
     },
     "metadata": {},
     "output_type": "display_data"
    },
    {
     "name": "stdout",
     "output_type": "stream",
     "text": [
      "Para un alpha de 4.89390091848 y l1_ratio de 0.5 el mejor coeficiente para el conjunto de evaluacion es: 0.6254563634 \n"
     ]
    }
   ],
   "source": [
    "b = 0.5\n",
    "alphas_ = np.logspace(-2, 1, num=30, base=10)\n",
    "coefs = []\n",
    "model = ElasticNet(fit_intercept = False)\n",
    "#print '{:^15} {:^10} {:^15}'.format('alpha', 'l1_ratio', 'coef_validation')\n",
    "for a in alphas_:\n",
    "    model.set_params(alpha = a, l1_ratio = b)\n",
    "    model.fit(X, y)\n",
    "    coef = model.score(X_val, y_val)\n",
    "    coefs.append(coef)\n",
    "    #print '{:^15} {:^10} {:^15}'.format(a, b, coef)\n",
    "\n",
    "best_alpha = alphas_[coefs.index(max(coefs))]\n",
    "best_score.append((max(coefs),best_alpha, b))\n",
    "\n",
    "plt.plot(alphas_, coefs)\n",
    "plt.ylabel('R2 Validacion')\n",
    "plt.xlabel('lambda')\n",
    "plt.title('R2 para un l1_ratio = 0.5')\n",
    "plt.show()\n",
    "print 'Para un alpha de {} y l1_ratio de {} el mejor coeficiente para el conjunto de evaluacion es: {} '.format(best_alpha,b,(max(coefs)))"
   ]
  },
  {
   "cell_type": "code",
   "execution_count": 6,
   "metadata": {
    "collapsed": false
   },
   "outputs": [
    {
     "name": "stdout",
     "output_type": "stream",
     "text": [
      "     alpha       l1_ratio  coef_validation\n",
      "     0.01          0.75    0.528822165527 \n",
      "0.0126896100317    0.75    0.526096203466 \n",
      "0.0161026202756    0.75    0.514361403505 \n",
      "0.0204335971786    0.75    0.517563875426 \n",
      "0.025929437974     0.75    0.540441627796 \n",
      "0.0329034456231    0.75    0.561738352431 \n",
      "0.0417531893656    0.75    0.588478464494 \n",
      "0.0529831690628    0.75    0.612793464431 \n",
      "0.067233575365     0.75     0.61586050469 \n",
      "0.0853167852417    0.75    0.616817636809 \n",
      "0.108263673387     0.75    0.618316037683 \n",
      "0.137382379588     0.75    0.615045458913 \n",
      " 0.17433288222     0.75    0.613852381078 \n",
      "0.221221629107     0.75    0.612176285904 \n",
      "0.280721620394     0.75    0.614280528448 \n",
      "0.356224789026     0.75    0.615266354197 \n",
      "0.452035365636     0.75    0.617308376654 \n",
      "0.573615251045     0.75    0.618782366215 \n",
      "0.727895384398     0.75     0.62150901752 \n",
      "0.923670857187     0.75    0.622058010875 \n",
      " 1.17210229753     0.75    0.621872674891 \n",
      " 1.48735210729     0.75    0.621829580652 \n",
      " 1.88739182214     0.75    0.622480525998 \n",
      " 2.39502661999     0.75    0.623391361674 \n",
      " 3.03919538231     0.75    0.623732978213 \n",
      " 3.85662042116     0.75    0.623976855527 \n",
      " 4.89390091848     0.75    0.623766965263 \n",
      " 6.21016941892     0.75    0.624334257043 \n",
      " 7.88046281567     0.75    0.625297054108 \n",
      "     10.0          0.75    0.625413209611 \n"
     ]
    },
    {
     "data": {
      "image/png": "[encoded data removed]",
      "text/plain": [
       "<matplotlib.figure.Figure at 0x3cecba8>"
      ]
     },
     "metadata": {},
     "output_type": "display_data"
    },
    {
     "name": "stdout",
     "output_type": "stream",
     "text": [
      "Para un alpha de 10.0 y l1_ratio de 0.75 el mejor coeficiente para el conjunto de evaluacion es: 0.625413209611 \n"
     ]
    }
   ],
   "source": [
    "b = 0.75\n",
    "alphas_ = np.logspace(-2, 1, num=30, base=10)\n",
    "coefs = []\n",
    "model = ElasticNet(fit_intercept = False)\n",
    "#print '{:^15} {:^10} {:^15}'.format('alpha', 'l1_ratio', 'coef_validation')\n",
    "for a in alphas_:\n",
    "    model.set_params(alpha = a, l1_ratio = b)\n",
    "    model.fit(X, y)\n",
    "    coef = model.score(X_val, y_val)\n",
    "    coefs.append(coef)\n",
    "    #print '{:^15} {:^10} {:^15}'.format(a, b, coef)\n",
    "\n",
    "best_alpha = alphas_[coefs.index(max(coefs))]\n",
    "best_score.append((max(coefs),best_alpha, b))\n",
    "\n",
    "plt.plot(alphas_, coefs)\n",
    "plt.ylabel('R2 Validacion')\n",
    "plt.xlabel('lambda')\n",
    "plt.title('R2 para un l1_ratio = 0.75')\n",
    "plt.show()\n",
    "print 'Para un alpha de {} y l1_ratio de {} el mejor coeficiente para el conjunto de evaluacion es: {} '.format(best_alpha,b,max(coefs))"
   ]
  },
  {
   "cell_type": "code",
   "execution_count": 7,
   "metadata": {
    "collapsed": false
   },
   "outputs": [
    {
     "data": {
      "image/png": "[encoded data removed]",
      "text/plain": [
       "<matplotlib.figure.Figure at 0xb4b2438>"
      ]
     },
     "metadata": {},
     "output_type": "display_data"
    },
    {
     "name": "stdout",
     "output_type": "stream",
     "text": [
      "Para un alpha de 10.0 y l1_ratio de 1 el mejor coeficiente para el conjunto de evaluacion es: -0.263461550071 \n"
     ]
    }
   ],
   "source": [
    "b = 1\n",
    "alphas_ = np.logspace(-2, 1, num=30, base=10)\n",
    "coefs = []\n",
    "model = ElasticNet(fit_intercept = False)\n",
    "#print '{:^15} {:^10} {:^15}'.format('alpha', 'l1_ratio', 'coef_validation')\n",
    "for a in alphas_:\n",
    "    model.set_params(alpha = a, l1_ratio = b)\n",
    "    model.fit(X, y)\n",
    "    coef = model.score(X_val, y_val)\n",
    "    coefs.append(coef)\n",
    "    #print '{:^15} {:^10} {:^15}'.format(a, b, coef)\n",
    "\n",
    "best_alpha = alphas_[coefs.index(max(coefs))]\n",
    "best_score.append((max(coefs),best_alpha, b))\n",
    "\n",
    "plt.plot(alphas_, coefs)\n",
    "plt.ylabel('R2 Validacion')\n",
    "plt.xlabel('lambda')\n",
    "plt.title('R2 para un l1_ratio = 1')\n",
    "plt.show()\n",
    "print 'Para un alpha de {} y l1_ratio de {} el mejor coeficiente para el conjunto de evaluacion es: {} '.format(best_alpha,b,max(coefs))"
   ]
  },
  {
   "cell_type": "code",
   "execution_count": 10,
   "metadata": {
    "collapsed": false
   },
   "outputs": [
    {
     "name": "stdout",
     "output_type": "stream",
     "text": [
      "Para un alpha de 3.03919538231 y l1_ratio de 0.25 el mejor coeficiente para el conjunto de evaluacion es: 0.590686153135 \n"
     ]
    }
   ],
   "source": [
    "#Se calcula coeficiente de determinacion en el conjunto de prueba para el mejor par alpha - l1_ratio\n",
    "a = max(best_score)[1]\n",
    "b = max(best_score)[2]\n",
    "model = ElasticNet(fit_intercept = False)\n",
    "model.set_params(alpha = a, l1_ratio = b, max_iter = 3000)\n",
    "model.fit(X, y)\n",
    "coef = model.score(X_test, y_test)\n",
    "print 'Para un alpha de {} y l1_ratio de {} el mejor coeficiente para el conjunto de evaluacion es: {} '.format(a,b,coef)"
   ]
  },
  {
   "cell_type": "markdown",
   "metadata": {},
   "source": [
    "**Finalmente, el mejor coeficiente de determinación encontrado es: 0.590686153135 con un $\\lambda$ = 3.039 y $\\alpha$ = 0.25.**"
   ]
  }
 ],
 "metadata": {
  "anaconda-cloud": {},
  "kernelspec": {
   "display_name": "Python [Root]",
   "language": "python",
   "name": "Python [Root]"
  },
  "language_info": {
   "codemirror_mode": {
    "name": "ipython",
    "version": 2
   },
   "file_extension": ".py",
   "mimetype": "text/x-python",
   "name": "python",
   "nbconvert_exporter": "python",
   "pygments_lexer": "ipython2",
   "version": "2.7.12"
  }
 },
 "nbformat": 4,
 "nbformat_minor": 0
}
