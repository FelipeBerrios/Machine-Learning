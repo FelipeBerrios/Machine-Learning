{
 "cells": [
  {
   "cell_type": "markdown",
   "metadata": {
    "collapsed": true
   },
   "source": [
    "# Regresión Lineal Ordinaria (LSS)"
   ]
  },
  {
   "cell_type": "markdown",
   "metadata": {},
   "source": [
    "### a) Construcción del dataframe"
   ]
  },
  {
   "cell_type": "code",
   "execution_count": 1,
   "metadata": {
    "collapsed": true
   },
   "outputs": [],
   "source": [
    "#!usr/bin/env python\n",
    "# -*- coding: utf-8 -*-\n",
    "import pandas as pd\n",
    "import numpy as np\n",
    "\n",
    "url = 'http://statweb.stanford.edu/~tibs/ElemStatLearn/datasets/prostate.data'\n",
    "df = pd.read_csv(url, sep='\\t', header=0)\n",
    "df = df.drop('Unnamed: 0', axis=1)\n",
    "istrain_str = df['train']\n",
    "istrain = np.asarray([True if s == 'T' else False for s in istrain_str])\n",
    "istest = np.logical_not(istrain)\n",
    "df = df.drop('train', axis=1)"
   ]
  },
  {
   "cell_type": "markdown",
   "metadata": {},
   "source": [
    "La función drop devuelve un nuevo objeto con las etiquetas y ejes dados removidos.\n",
    "Entonces, se remueve la columna sin nombre que denota la posición de cada registro del _dataframe_, con el siguiente código:\n",
    "```python\n",
    "df = df.drop('Unnamed: 0', axis=1)\n",
    "```\n",
    "Además la columna _train_ indica si el registro pertenece o no al conjunto de entrenamiento. Una vez almacenada en la variable *istrain_str* se elimina del conjunto de datos con la función drop, ya que no es un predictor (característica).\n",
    "\n",
    "```python\n",
    "df = df.drop('train', axis=1)\n",
    "```"
   ]
  },
  {
   "cell_type": "markdown",
   "metadata": {},
   "source": [
    "### b) Descripción del conjunto de datos"
   ]
  },
  {
   "cell_type": "code",
   "execution_count": 2,
   "metadata": {
    "collapsed": false,
    "scrolled": true
   },
   "outputs": [
    {
     "name": "stdout",
     "output_type": "stream",
     "text": [
      "El dataset se compone de 97  registros (pacientes), cada uno de los cuáles está descrito por 9 variables.\n",
      "\n",
      "<class 'pandas.core.frame.DataFrame'>\n",
      "RangeIndex: 97 entries, 0 to 96\n",
      "Data columns (total 9 columns):\n",
      "lcavol     97 non-null float64\n",
      "lweight    97 non-null float64\n",
      "age        97 non-null int64\n",
      "lbph       97 non-null float64\n",
      "svi        97 non-null int64\n",
      "lcp        97 non-null float64\n",
      "gleason    97 non-null int64\n",
      "pgg45      97 non-null int64\n",
      "lpsa       97 non-null float64\n",
      "dtypes: float64(5), int64(4)\n",
      "memory usage: 6.9 KB\n"
     ]
    },
    {
     "data": {
      "text/html": [
       "<div>\n",
       "<table border=\"1\" class=\"dataframe\">\n",
       "  <thead>\n",
       "    <tr style=\"text-align: right;\">\n",
       "      <th></th>\n",
       "      <th>lcavol</th>\n",
       "      <th>lweight</th>\n",
       "      <th>age</th>\n",
       "      <th>lbph</th>\n",
       "      <th>svi</th>\n",
       "      <th>lcp</th>\n",
       "      <th>gleason</th>\n",
       "      <th>pgg45</th>\n",
       "      <th>lpsa</th>\n",
       "    </tr>\n",
       "  </thead>\n",
       "  <tbody>\n",
       "    <tr>\n",
       "      <th>count</th>\n",
       "      <td>97.000000</td>\n",
       "      <td>97.000000</td>\n",
       "      <td>97.000000</td>\n",
       "      <td>97.000000</td>\n",
       "      <td>97.000000</td>\n",
       "      <td>97.000000</td>\n",
       "      <td>97.000000</td>\n",
       "      <td>97.000000</td>\n",
       "      <td>97.000000</td>\n",
       "    </tr>\n",
       "    <tr>\n",
       "      <th>mean</th>\n",
       "      <td>1.350010</td>\n",
       "      <td>3.628943</td>\n",
       "      <td>63.865979</td>\n",
       "      <td>0.100356</td>\n",
       "      <td>0.216495</td>\n",
       "      <td>-0.179366</td>\n",
       "      <td>6.752577</td>\n",
       "      <td>24.381443</td>\n",
       "      <td>2.478387</td>\n",
       "    </tr>\n",
       "    <tr>\n",
       "      <th>std</th>\n",
       "      <td>1.178625</td>\n",
       "      <td>0.428411</td>\n",
       "      <td>7.445117</td>\n",
       "      <td>1.450807</td>\n",
       "      <td>0.413995</td>\n",
       "      <td>1.398250</td>\n",
       "      <td>0.722134</td>\n",
       "      <td>28.204035</td>\n",
       "      <td>1.154329</td>\n",
       "    </tr>\n",
       "    <tr>\n",
       "      <th>min</th>\n",
       "      <td>-1.347074</td>\n",
       "      <td>2.374906</td>\n",
       "      <td>41.000000</td>\n",
       "      <td>-1.386294</td>\n",
       "      <td>0.000000</td>\n",
       "      <td>-1.386294</td>\n",
       "      <td>6.000000</td>\n",
       "      <td>0.000000</td>\n",
       "      <td>-0.430783</td>\n",
       "    </tr>\n",
       "    <tr>\n",
       "      <th>25%</th>\n",
       "      <td>0.512824</td>\n",
       "      <td>3.375880</td>\n",
       "      <td>60.000000</td>\n",
       "      <td>-1.386294</td>\n",
       "      <td>0.000000</td>\n",
       "      <td>-1.386294</td>\n",
       "      <td>6.000000</td>\n",
       "      <td>0.000000</td>\n",
       "      <td>1.731656</td>\n",
       "    </tr>\n",
       "    <tr>\n",
       "      <th>50%</th>\n",
       "      <td>1.446919</td>\n",
       "      <td>3.623007</td>\n",
       "      <td>65.000000</td>\n",
       "      <td>0.300105</td>\n",
       "      <td>0.000000</td>\n",
       "      <td>-0.798508</td>\n",
       "      <td>7.000000</td>\n",
       "      <td>15.000000</td>\n",
       "      <td>2.591516</td>\n",
       "    </tr>\n",
       "    <tr>\n",
       "      <th>75%</th>\n",
       "      <td>2.127041</td>\n",
       "      <td>3.876396</td>\n",
       "      <td>68.000000</td>\n",
       "      <td>1.558145</td>\n",
       "      <td>0.000000</td>\n",
       "      <td>1.178655</td>\n",
       "      <td>7.000000</td>\n",
       "      <td>40.000000</td>\n",
       "      <td>3.056357</td>\n",
       "    </tr>\n",
       "    <tr>\n",
       "      <th>max</th>\n",
       "      <td>3.821004</td>\n",
       "      <td>4.780383</td>\n",
       "      <td>79.000000</td>\n",
       "      <td>2.326302</td>\n",
       "      <td>1.000000</td>\n",
       "      <td>2.904165</td>\n",
       "      <td>9.000000</td>\n",
       "      <td>100.000000</td>\n",
       "      <td>5.582932</td>\n",
       "    </tr>\n",
       "  </tbody>\n",
       "</table>\n",
       "</div>"
      ],
      "text/plain": [
       "          lcavol    lweight        age       lbph        svi        lcp  \\\n",
       "count  97.000000  97.000000  97.000000  97.000000  97.000000  97.000000   \n",
       "mean    1.350010   3.628943  63.865979   0.100356   0.216495  -0.179366   \n",
       "std     1.178625   0.428411   7.445117   1.450807   0.413995   1.398250   \n",
       "min    -1.347074   2.374906  41.000000  -1.386294   0.000000  -1.386294   \n",
       "25%     0.512824   3.375880  60.000000  -1.386294   0.000000  -1.386294   \n",
       "50%     1.446919   3.623007  65.000000   0.300105   0.000000  -0.798508   \n",
       "75%     2.127041   3.876396  68.000000   1.558145   0.000000   1.178655   \n",
       "max     3.821004   4.780383  79.000000   2.326302   1.000000   2.904165   \n",
       "\n",
       "         gleason       pgg45       lpsa  \n",
       "count  97.000000   97.000000  97.000000  \n",
       "mean    6.752577   24.381443   2.478387  \n",
       "std     0.722134   28.204035   1.154329  \n",
       "min     6.000000    0.000000  -0.430783  \n",
       "25%     6.000000    0.000000   1.731656  \n",
       "50%     7.000000   15.000000   2.591516  \n",
       "75%     7.000000   40.000000   3.056357  \n",
       "max     9.000000  100.000000   5.582932  "
      ]
     },
     "execution_count": 2,
     "metadata": {},
     "output_type": "execute_result"
    }
   ],
   "source": [
    "print 'El dataset se compone de %d'% df.shape[0],' registros (pacientes), cada uno de los cuáles está descrito por %d variables.\\n'% df.shape[1]\n",
    "df.info()\n",
    "df.describe()"
   ]
  },
  {
   "cell_type": "markdown",
   "metadata": {},
   "source": [
    "Las variables del conjunto de datos se describen a continuación:\n",
    "1. **lcavol**: Logaritmo del volumen de cáncer presente. (Predictor)\n",
    "3. **lweight**: Logaritmo del peso de la próstata. (Predictor)\n",
    "4. **age**: Edad. (Predictor)\n",
    "5. **lbph**: Logaritmo de la cantidad de hiperplasia benigna de próstata. (Predictor)\n",
    "6. **svi**: Indica si existe invasión de la vesícula seminal o no. (Predictor)\n",
    "7. **lcp**: Logaritmo de la penetración capsular. (Predictor)\n",
    "8. **gleason**: Medida del grado de agresividad del cáncer, en base a la escala de Gleason. (Predictor)\n",
    "9. **pgg45**: Porcentaje que representa la presencia de los patrones de Gleason 4 y 5. (Predictor)\n",
    "10. **lpsa**: Logaritmo del nivel de antígeno prostático específico (PSA). (Variable que se quiere predecir)\n",
    "\n",
    "Se debe resaltar que no existen valores nulos para ningún registro."
   ]
  },
  {
   "cell_type": "markdown",
   "metadata": {},
   "source": [
    "### c) Normalización de los datos"
   ]
  },
  {
   "cell_type": "code",
   "execution_count": 3,
   "metadata": {
    "collapsed": false,
    "scrolled": true
   },
   "outputs": [
    {
     "data": {
      "text/html": [
       "<div>\n",
       "<table border=\"1\" class=\"dataframe\">\n",
       "  <thead>\n",
       "    <tr style=\"text-align: right;\">\n",
       "      <th></th>\n",
       "      <th>lcavol</th>\n",
       "      <th>lweight</th>\n",
       "      <th>age</th>\n",
       "      <th>lbph</th>\n",
       "      <th>svi</th>\n",
       "      <th>lcp</th>\n",
       "      <th>gleason</th>\n",
       "      <th>pgg45</th>\n",
       "      <th>lpsa</th>\n",
       "    </tr>\n",
       "  </thead>\n",
       "  <tbody>\n",
       "    <tr>\n",
       "      <th>count</th>\n",
       "      <td>9.700000e+01</td>\n",
       "      <td>9.700000e+01</td>\n",
       "      <td>9.700000e+01</td>\n",
       "      <td>9.700000e+01</td>\n",
       "      <td>9.700000e+01</td>\n",
       "      <td>9.700000e+01</td>\n",
       "      <td>9.700000e+01</td>\n",
       "      <td>9.700000e+01</td>\n",
       "      <td>97.000000</td>\n",
       "    </tr>\n",
       "    <tr>\n",
       "      <th>mean</th>\n",
       "      <td>-9.614302e-17</td>\n",
       "      <td>-3.216213e-16</td>\n",
       "      <td>3.433679e-16</td>\n",
       "      <td>-4.721309e-17</td>\n",
       "      <td>-1.327689e-16</td>\n",
       "      <td>8.240831e-17</td>\n",
       "      <td>-1.476482e-16</td>\n",
       "      <td>-1.816989e-16</td>\n",
       "      <td>2.478387</td>\n",
       "    </tr>\n",
       "    <tr>\n",
       "      <th>std</th>\n",
       "      <td>1.005195e+00</td>\n",
       "      <td>1.005195e+00</td>\n",
       "      <td>1.005195e+00</td>\n",
       "      <td>1.005195e+00</td>\n",
       "      <td>1.005195e+00</td>\n",
       "      <td>1.005195e+00</td>\n",
       "      <td>1.005195e+00</td>\n",
       "      <td>1.005195e+00</td>\n",
       "      <td>1.154329</td>\n",
       "    </tr>\n",
       "    <tr>\n",
       "      <th>min</th>\n",
       "      <td>-2.300218e+00</td>\n",
       "      <td>-2.942386e+00</td>\n",
       "      <td>-3.087227e+00</td>\n",
       "      <td>-1.030029e+00</td>\n",
       "      <td>-5.256575e-01</td>\n",
       "      <td>-8.676552e-01</td>\n",
       "      <td>-1.047571e+00</td>\n",
       "      <td>-8.689573e-01</td>\n",
       "      <td>-0.430783</td>\n",
       "    </tr>\n",
       "    <tr>\n",
       "      <th>25%</th>\n",
       "      <td>-7.139973e-01</td>\n",
       "      <td>-5.937689e-01</td>\n",
       "      <td>-5.219612e-01</td>\n",
       "      <td>-1.030029e+00</td>\n",
       "      <td>-5.256575e-01</td>\n",
       "      <td>-8.676552e-01</td>\n",
       "      <td>-1.047571e+00</td>\n",
       "      <td>-8.689573e-01</td>\n",
       "      <td>1.731656</td>\n",
       "    </tr>\n",
       "    <tr>\n",
       "      <th>50%</th>\n",
       "      <td>8.264956e-02</td>\n",
       "      <td>-1.392703e-02</td>\n",
       "      <td>1.531086e-01</td>\n",
       "      <td>1.383966e-01</td>\n",
       "      <td>-5.256575e-01</td>\n",
       "      <td>-4.450983e-01</td>\n",
       "      <td>3.444069e-01</td>\n",
       "      <td>-3.343557e-01</td>\n",
       "      <td>2.591516</td>\n",
       "    </tr>\n",
       "    <tr>\n",
       "      <th>75%</th>\n",
       "      <td>6.626939e-01</td>\n",
       "      <td>5.806076e-01</td>\n",
       "      <td>5.581506e-01</td>\n",
       "      <td>1.010033e+00</td>\n",
       "      <td>-5.256575e-01</td>\n",
       "      <td>9.762744e-01</td>\n",
       "      <td>3.444069e-01</td>\n",
       "      <td>5.566470e-01</td>\n",
       "      <td>3.056357</td>\n",
       "    </tr>\n",
       "    <tr>\n",
       "      <th>max</th>\n",
       "      <td>2.107397e+00</td>\n",
       "      <td>2.701661e+00</td>\n",
       "      <td>2.043304e+00</td>\n",
       "      <td>1.542252e+00</td>\n",
       "      <td>1.902379e+00</td>\n",
       "      <td>2.216735e+00</td>\n",
       "      <td>3.128363e+00</td>\n",
       "      <td>2.695054e+00</td>\n",
       "      <td>5.582932</td>\n",
       "    </tr>\n",
       "  </tbody>\n",
       "</table>\n",
       "</div>"
      ],
      "text/plain": [
       "             lcavol       lweight           age          lbph           svi  \\\n",
       "count  9.700000e+01  9.700000e+01  9.700000e+01  9.700000e+01  9.700000e+01   \n",
       "mean  -9.614302e-17 -3.216213e-16  3.433679e-16 -4.721309e-17 -1.327689e-16   \n",
       "std    1.005195e+00  1.005195e+00  1.005195e+00  1.005195e+00  1.005195e+00   \n",
       "min   -2.300218e+00 -2.942386e+00 -3.087227e+00 -1.030029e+00 -5.256575e-01   \n",
       "25%   -7.139973e-01 -5.937689e-01 -5.219612e-01 -1.030029e+00 -5.256575e-01   \n",
       "50%    8.264956e-02 -1.392703e-02  1.531086e-01  1.383966e-01 -5.256575e-01   \n",
       "75%    6.626939e-01  5.806076e-01  5.581506e-01  1.010033e+00 -5.256575e-01   \n",
       "max    2.107397e+00  2.701661e+00  2.043304e+00  1.542252e+00  1.902379e+00   \n",
       "\n",
       "                lcp       gleason         pgg45       lpsa  \n",
       "count  9.700000e+01  9.700000e+01  9.700000e+01  97.000000  \n",
       "mean   8.240831e-17 -1.476482e-16 -1.816989e-16   2.478387  \n",
       "std    1.005195e+00  1.005195e+00  1.005195e+00   1.154329  \n",
       "min   -8.676552e-01 -1.047571e+00 -8.689573e-01  -0.430783  \n",
       "25%   -8.676552e-01 -1.047571e+00 -8.689573e-01   1.731656  \n",
       "50%   -4.450983e-01  3.444069e-01 -3.343557e-01   2.591516  \n",
       "75%    9.762744e-01  3.444069e-01  5.566470e-01   3.056357  \n",
       "max    2.216735e+00  3.128363e+00  2.695054e+00   5.582932  "
      ]
     },
     "execution_count": 3,
     "metadata": {},
     "output_type": "execute_result"
    }
   ],
   "source": [
    "from sklearn.preprocessing import StandardScaler\n",
    "\n",
    "#Normalizacion\n",
    "scaler = StandardScaler()\n",
    "df_scaled = pd.DataFrame(scaler.fit_transform(df), columns=df.columns)\n",
    "\n",
    "#La variable Y (lPSA) no se normaliza, sólo se normalizan las caracteristicas/predictores (features)\n",
    "df_scaled['lpsa'] = df['lpsa']\n",
    "\n",
    "# Notamos que una vez normalizado, el promedio (mean) de cada feature es practicamente 0\n",
    "# y la desviacion estandar (std) es muy cercana a 1.\n",
    "df_scaled.describe()"
   ]
  },
  {
   "cell_type": "markdown",
   "metadata": {},
   "source": [
    "##### Importancia de Normalizar\n",
    "Antes generar un modelo predictivo es necesario normalizar los datos, pues se está trabajando con variables medidas en unidades y escalas diferentes. Al normalizar, se eliminan los efectos de la media y la varianza de cada variable, volviéndose posible realizar comparaciones razonables entre estas. Sólo se deben normalizar las características (_features_), por tanto la variable _lpsa_ se mantiene respecto al _dataset_ original. También, se observa que la media de cada variable tiende a 0 y la varianza es muy cercana a 1. "
   ]
  },
  {
   "cell_type": "markdown",
   "metadata": {},
   "source": [
    "### d) Regresión lineal ordinaria"
   ]
  },
  {
   "cell_type": "code",
   "execution_count": 4,
   "metadata": {
    "collapsed": false
   },
   "outputs": [
    {
     "data": {
      "text/plain": [
       "LinearRegression(copy_X=True, fit_intercept=False, n_jobs=1, normalize=False)"
      ]
     },
     "execution_count": 4,
     "metadata": {},
     "output_type": "execute_result"
    }
   ],
   "source": [
    "import sklearn.linear_model as lm\n",
    "\n",
    "# Se crea el modelo de regresion lineal\n",
    "X = df_scaled.ix[:,:-1] # Se obtinen las Caracteristicas (features) lcavol...pgg45\n",
    "N = X.shape[0] # Cantidad de datos (97 filas/registros)\n",
    "X.insert(X.shape[1], 'intercept', np.ones(N)) # Se agrega la columna Intercepto (columna de unos)\n",
    "y = df_scaled['lpsa'] # La variable dependiente lPSA es almancenada en y\n",
    "Xtrain = X[istrain] # Se crea el conjunto de entrenamiento para las caracteristicas\n",
    "ytrain = y[istrain] # Se crea el conjunto de entramiento para la variable a predecir\n",
    "Xtest = X[np.logical_not(istrain)] # Se crea el conjunto de prueba para las caracteristicas PSA\n",
    "ytest = y[np.logical_not(istrain)] # Se crea el conjunto de prueba para la variable a predecir PSA\n",
    "linreg = lm.LinearRegression(fit_intercept = False) #Generación del modelo\n",
    "linreg.fit(Xtrain, ytrain) # Se ajusta (fit) el modelo de acuerdo a los datos de entrenamiento"
   ]
  },
  {
   "cell_type": "markdown",
   "metadata": {},
   "source": [
    "### e) Pesos y Z-score"
   ]
  },
  {
   "cell_type": "code",
   "execution_count": 5,
   "metadata": {
    "collapsed": false
   },
   "outputs": [
    {
     "name": "stdout",
     "output_type": "stream",
     "text": [
      "Variable     Peso       Z-score   \n",
      "lcavol       0.6760     5.3198\n",
      "lweight      0.2617     2.7270\n",
      "age         -0.1407    -1.3838\n",
      "lbph         0.2091     2.0380\n",
      "svi          0.3036     2.4479\n",
      "lcp         -0.2870    -1.8507\n",
      "gleason     -0.0212    -0.1454\n",
      "pgg45        0.2656     1.7228\n",
      "intercept     2.4649    27.3593\n"
     ]
    }
   ],
   "source": [
    "# Se obtiene el peso asociado a cada variable y su error estandar\n",
    "weights = linreg.coef_\n",
    "\n",
    "# Se estima la varianza \n",
    "yhat_train = linreg.predict(Xtrain)\n",
    "N = Xtrain.shape[0]\n",
    "p = Xtrain.shape[1]\n",
    "varianza = sum(np.power(yhat_train - ytrain, 2)) / (N - p - 1)\n",
    "\n",
    "# Se obtiene vj que es el elemnto jth de la diagonal de (X.T*X)^-1\n",
    "vj = np.diag(np.linalg.pinv(Xtrain.T.dot(Xtrain)))\n",
    "\n",
    "# A partir de lo anterior, se calculan los Z-score de cada variable\n",
    "Z_score = weights/( np.sqrt(varianza* vj))\n",
    "\n",
    "print '{:12} {:10} {:10}'.format('Variable', 'Peso', 'Z-score')\n",
    "for name, w, z in zip(Xtrain.columns.values, weights, Z_score):\n",
    "    print '{:8} {:10.4f} {:10.4f}'.format(name, w, z)"
   ]
  },
  {
   "cell_type": "markdown",
   "metadata": {},
   "source": [
    "De acuerdo al valor de *z_score*, las variables que presentan una mayor correlación con la variable a predecir son *lcavol*, *lweight* y *svi*. Si se utiliza un nivel de significancia del 5%, aquellas variables que se encuentren en el intervalo [-2.0, +2.0] no existirá suficiente evidencia que demuestre la relación con *lpsa*. Así, las variables *age*, *lcp*, *gleason* y pgg45 no están relacionadas con la variable a predecir."
   ]
  },
  {
   "cell_type": "markdown",
   "metadata": {},
   "source": [
    "### f) Estimación de error de predicción"
   ]
  },
  {
   "cell_type": "code",
   "execution_count": 6,
   "metadata": {
    "collapsed": false
   },
   "outputs": [
    {
     "name": "stdout",
     "output_type": "stream",
     "text": [
      "MSE test sin Cross Validation = 0.5213\n",
      "Cross validation\n",
      "k = 5    MSE = 0.9565\n",
      "k = 10   MSE = 0.7572\n"
     ]
    }
   ],
   "source": [
    "from sklearn import cross_validation\n",
    "\n",
    "#Se estima error de prediccion del modelo utilizando k-fold k = 5 y k = 10\n",
    "yhat_test = linreg.predict(Xtest)\n",
    "mse_test = np.mean(np.power(yhat_test - ytest, 2))\n",
    "print 'MSE test sin Cross Validation = %.4f'% mse_test\n",
    "Xm = Xtrain.as_matrix()\n",
    "ym = ytrain.as_matrix()\n",
    "\n",
    "print 'Cross validation'\n",
    "for i in range(5,11,5):\n",
    "    k_fold = cross_validation.KFold(len(Xm),i)\n",
    "    mse_cv = 0\n",
    "    for k, (train, val) in enumerate(k_fold):\n",
    "      linreg = lm.LinearRegression(fit_intercept = False)\n",
    "      linreg.fit(Xm[train], ym[train])\n",
    "      yhat_val = linreg.predict(Xm[val])\n",
    "      mse_fold = np.mean(np.power(yhat_val - ym[val], 2))\n",
    "      mse_cv += mse_fold\n",
    "    mse_cv = mse_cv/i\n",
    "    print 'k = %-3d'% i, ' MSE = %.4f'% mse_cv\n"
   ]
  },
  {
   "cell_type": "markdown",
   "metadata": {},
   "source": [
    "Se observa que el error cuadrático medio aumenta bastante al utilizar cross-validation en comparación al resultado obtenido sin usarlo. Esto indica que existe un alto nivel de dependencia del modelo respecto a los datos usados para construirlo. Es decir, el modelo se sobre ajusta (*overfitting*) a los datos de entrenamiento. Por otro lado, se debe tener en cuenta que el conjunto de datos es bastante pequeño, perjudicando al desempeño cross-validation."
   ]
  },
  {
   "cell_type": "markdown",
   "metadata": {},
   "source": [
    "### e) Quantile-Quantile plot (Q-Q plot)"
   ]
  },
  {
   "cell_type": "code",
   "execution_count": 7,
   "metadata": {
    "collapsed": false
   },
   "outputs": [
    {
     "data": {
      "image/png": "[encoded data removed]",
      "text/plain": [
       "<matplotlib.figure.Figure at 0x8f16fd0>"
      ]
     },
     "metadata": {},
     "output_type": "display_data"
    }
   ],
   "source": [
    "import scipy.stats as stats\n",
    "import matplotlib.pyplot as plt\n",
    "%matplotlib inline\n",
    "\n",
    "#Se estima error de prediccion por cada dato de entrenamiento\n",
    "yhat_train = linreg.predict(Xtrain)\n",
    "ytrain_array = np.asarray(ytrain)\n",
    "error = yhat_train - ytrain_array\n",
    "\n",
    "#Se genera grafico de errores\n",
    "stats.probplot(error, dist='norm', plot=plt)\n",
    "plt.title('')\n",
    "plt.ylabel('Error dato de entrenamiento')\n",
    "plt.show()"
   ]
  },
  {
   "cell_type": "markdown",
   "metadata": {},
   "source": [
    "##### ¿Existe normalidad en los datos?\n",
    "Se puede observar en el gráfico, que el conjunto de errores en los datos de entrenamiento comparados con los percentiles de una distribución normal pueden representarse mediante una recta. Esto se reafirmado con el coeficiente de correlación $R^2 = 0.9827$. Como consecuencia de lo anterior, y de acuerdo con el marco teórico, es correcto señalar que los errores siguen una distribución normal."
   ]
  },
  {
   "cell_type": "markdown",
   "metadata": {},
   "source": [
    "# 2 ) Selección de Atributos"
   ]
  },
  {
   "cell_type": "markdown",
   "metadata": {},
   "source": [
    "### a) Forward stepwise selection"
   ]
  },
  {
   "cell_type": "markdown",
   "metadata": {},
   "source": [
    "En primer lugar se restablecen las matrices"
   ]
  },
  {
   "cell_type": "code",
   "execution_count": 8,
   "metadata": {
    "collapsed": true
   },
   "outputs": [],
   "source": [
    "X = df_scaled.ix[:,:-1] # Se obtinen las Caracteristicas (features) lcavol...pgg45\n",
    "N = X.shape[0] # Cantidad de datos (97 filas/registros)\n",
    "X.insert(X.shape[1], 'intercept', np.ones(N)) # Se agrega la columna Intercepto (columna de unos)\n",
    "y = df_scaled['lpsa'] # La variable dependiente lPSA es almancenada en y\n",
    "Xtrain = X[istrain] # Se crea el conjunto de entrenamiento para las caracteristicas\n",
    "ytrain = y[istrain] # Se crea el conjunto de entramiento para la variable a predecir\n",
    "Xtest = X[np.logical_not(istrain)] # Se crea el conjunto de prueba para las caracteristicas PSA\n",
    "ytest = y[np.logical_not(istrain)] \n",
    "Xm = Xtrain.as_matrix()\n",
    "ym = ytrain.as_matrix()\n",
    "Xt = Xtest.as_matrix()\n",
    "yt = ytest.as_matrix()"
   ]
  },
  {
   "cell_type": "markdown",
   "metadata": {},
   "source": [
    "El criterio a utilizar para incluir o remover predictores del modelo es K-fold cross validation, esto permitirá evaluar localmente cada variable, y reducir en cierta forma el overfitting que produce solo utilizar MSE. Con esto es posible que el modelo generalice en mayor medida ya que se puede obtener una mejor estimación del error de pruebas en cada paso.\n",
    "Se define la siguiente función que obtiene el MSE de un k-fold cross validation con $k=10$"
   ]
  },
  {
   "cell_type": "code",
   "execution_count": 9,
   "metadata": {
    "collapsed": true
   },
   "outputs": [],
   "source": [
    "def MSE_Kfold(Xm, ym):\n",
    "\tk_fold = cross_validation.KFold(len(Xm),10)\n",
    "\tmse_cv = 0\n",
    "\tfor k, (train, val) in enumerate(k_fold):\n",
    "\t\tlinreg = lm.LinearRegression(fit_intercept = False)\n",
    "\t\tlinreg.fit(Xm[train], ym[train])\n",
    "\t\tyhat_val = linreg.predict(Xm[val])\n",
    "\t\tmse_fold = np.mean(np.power(yhat_val - ym[val], 2))\n",
    "\t\tmse_cv += mse_fold\n",
    "\tmse_cv = mse_cv / 10\n",
    "\treturn mse_cv"
   ]
  },
  {
   "cell_type": "markdown",
   "metadata": {},
   "source": [
    "A continuación se define la función que realiza Forward-StepWise selection. Notar que también se mantiene el mse \"común\" para comparar posteriormente."
   ]
  },
  {
   "cell_type": "code",
   "execution_count": 10,
   "metadata": {
    "collapsed": true
   },
   "outputs": [],
   "source": [
    "def fss(x, y, names_x, k = 10000, criterio = \"mse\"):\n",
    "    #p es el numero de variables(sin intercepto)\n",
    "\tp = x.shape[1]-1\n",
    "\tk = min(p, k)\n",
    "\tnames_x = np.array(names_x)\n",
    "    #variables restantes\n",
    "\tremaining = range(0, p)\n",
    "    #se comienza con el intercepto como base\n",
    "\tselected = [p]\n",
    "\tcurrent_score = 0.0\n",
    "\tbest_new_score = 0.0\n",
    "\twhile remaining and len(selected)<=k :\n",
    "\t\tscore_candidates = []\n",
    "\t\tfor candidate in remaining:\n",
    "            #Se crea el modelo de regresion y se evalua en las variables\n",
    "\t\t\tmodel = lm.LinearRegression(fit_intercept=False)\n",
    "\t\t\tindexes = selected + [candidate]\n",
    "\t\t\tx_train = x[:,indexes]\n",
    "\t\t\tpredictions_train = model.fit(x_train, y).predict(x_train)\n",
    "\t\t\tresiduals_train = predictions_train - y\n",
    "            #Se evaluan los dos indices para incorporar variables\n",
    "\t\t\tmse_candidate = np.mean(np.power(residuals_train, 2))\n",
    "\t\t\tmse_cv_candidate = MSE_Kfold(x_train,y)\n",
    "\t\t\tif criterio == \"mse\":\n",
    "\t\t\t\tscore_candidates.append((mse_candidate, candidate))\n",
    "\t\t\telif criterio == \"cv\":\n",
    "\t\t\t\tscore_candidates.append((mse_cv_candidate, candidate))\n",
    "\t\tscore_candidates.sort()\n",
    "\t\tscore_candidates[:] = score_candidates[::-1]\n",
    "        #Se agrega el mejor candidato.\n",
    "\t\tbest_new_score, best_candidate = score_candidates.pop()\n",
    "\t\tremaining.remove(best_candidate)\n",
    "\t\tselected.append(best_candidate)\n",
    "\t\t#print \"selected = %s ...\"%names_x[best_candidate]\n",
    "\t\t#print \"totalvars=%d, mse = %f\"%(len(indexes)-1,best_new_score)\n",
    "\treturn selected"
   ]
  },
  {
   "cell_type": "markdown",
   "metadata": {},
   "source": [
    "Además se utilizan las siguientes funciones auxiliares para obtener el error cuadrático medio para cada número de variables y graficar tanto training como testing set. Notar que como las funciones bss y fss retornan vectores particulares, el análisis para ambos es distinto.  "
   ]
  },
  {
   "cell_type": "code",
   "execution_count": 11,
   "metadata": {
    "collapsed": true
   },
   "outputs": [],
   "source": [
    "def CalcularMse(vector_selected, xm,ym,xt,yt,mode):\n",
    "    #Si es modo bss el vector de entrada es el orden de eliminacion\n",
    "\tif mode==\"bss\":\n",
    "\t\t\tindexes = vector_selected[:]\n",
    "    #En cambio si es fss es el orden en que se agregan las variables.\n",
    "\telse:\n",
    "\t\tindexes = [xm.shape[1]-1]\n",
    "\tvariables = range(1, len(vector_selected))\n",
    "\tmse_training = []\n",
    "\tmse_testing = []\n",
    "\tfor i in range(1, len(vector_selected)):\n",
    "\t\tif mode==\"bss\":\n",
    "            #En este caso indexes es un arreglo de todas las variables, y se borra \n",
    "            # la primera segun el orden de eliminacion para evaluar el mse.\n",
    "\t\t\tif i!=1:\n",
    "\t\t\t\tindexes = [x for j,x in enumerate(indexes) if j!=1]\n",
    "\t\telse:\n",
    "            #En este caso solo se agrega la siguiente variable en elvector de seleccion fss.\n",
    "\t\t\tindexes = indexes + [vector_selected[i]]\n",
    "\t\tx_train = xm[:,indexes]\n",
    "\t\tx_test = xt[:,indexes]\n",
    "        # Se calcula el MSE para ese conjunto particular de variables.\n",
    "\t\tmodel = lm.LinearRegression(fit_intercept=False)\n",
    "\t\tpredictions_train = model.fit(x_train, ym).predict(x_train)\n",
    "\t\tpredictions_test = model.predict(x_test)\n",
    "\t\tresiduals_train = predictions_train - ym\n",
    "\t\tresiduals_test = predictions_test - yt\n",
    "\t\tmse_training.append(np.mean(np.power(residuals_train, 2)))\n",
    "\t\tmse_testing.append(np.mean(np.power(residuals_test, 2)))\n",
    "    #retorna los errores respectivos en una tupla de 2 listas.\n",
    "\treturn (mse_training,mse_testing,variables)\n",
    "\n",
    "def PlotMSE(data, criterio, mode=\"fss\"):\n",
    "\taxes = plt.gca()\n",
    "\tif mode==\"fss\":\n",
    "\t\tplt.plot(data[2], data[0] , color='blue', linewidth=3, label = \"training set\")\n",
    "\t\tplt.plot(data[2], data[1] , color='red', linewidth=3, label = \"testing set\")\n",
    "\t\taxes.set_ylim([0.3,0.8])\n",
    "\telif mode ==\"bss\":\n",
    "\t\tplt.gca().invert_xaxis()\n",
    "\t\tplt.plot(data[2][::-1], data[0] , color='blue', linewidth=3, label = \"training set\")\n",
    "\t\tplt.plot(data[2][::-1], data[1] , color='red', linewidth=3, label = \"testing set\")\n",
    "\t\taxes.set_ylim([0.3,1.5])\n",
    "\n",
    "\tplt.title('Error versus numero de variables ' + mode + ' - ' + criterio)\t\n",
    "\tplt.legend()\n",
    "\tplt.xlabel('Numero de variables')\n",
    "\tplt.ylabel('Error MSE')\n",
    "\tplt.show()"
   ]
  },
  {
   "cell_type": "markdown",
   "metadata": {},
   "source": [
    "##### A continuación se muestran los gráficos obtenidos:"
   ]
  },
  {
   "cell_type": "code",
   "execution_count": 12,
   "metadata": {
    "collapsed": false
   },
   "outputs": [
    {
     "name": "stdout",
     "output_type": "stream",
     "text": [
      "Orden seleccion mse:  ['Lcavol', 'Lweight', 'Svi', 'Lbph', 'Pgg45', 'Lcp', 'Age', 'Gleason']\n",
      "Orden seleccion cv:  ['Lcavol', 'Lweight', 'Lbph', 'Svi', 'Pgg45', 'Lcp', 'Age', 'Gleason']\n"
     ]
    },
    {
     "data": {
      "image/png": "[encoded data removed]",
      "text/plain": [
       "<matplotlib.figure.Figure at 0x92abfd0>"
      ]
     },
     "metadata": {},
     "output_type": "display_data"
    },
    {
     "data": {
      "image/png": "[encoded data removed]",
      "text/plain": [
       "<matplotlib.figure.Figure at 0x93ee9f0>"
      ]
     },
     "metadata": {},
     "output_type": "display_data"
    }
   ],
   "source": [
    "names_regressors = [\"Lcavol\", \"Lweight\", \"Age\", \"Lbph\", \"Svi\", \"Lcp\", \"Gleason\", \"Pgg45\"]\n",
    "fss_result_mse = fss(Xm,ym,names_regressors, criterio = \"mse\")\n",
    "fss_result_cv = fss(Xm,ym,names_regressors, criterio = \"cv\")\n",
    "print \"Orden seleccion mse: \", [names_regressors[x] for i,x in enumerate(fss_result_mse[1:])]\n",
    "print \"Orden seleccion cv: \", [names_regressors[x] for i,x in enumerate(fss_result_cv[1:])]\n",
    "PlotMSE(CalcularMse(fss_result_mse,Xm,ym,Xt,yt,\"fss\"),\"mse\", mode=\"fss\")\n",
    "PlotMSE(CalcularMse(fss_result_cv,Xm,ym,Xt,yt,\"fss\"),\"cv\", mode=\"fss\")"
   ]
  },
  {
   "cell_type": "markdown",
   "metadata": {},
   "source": [
    "Como se aprecia, k-fold y mse son muy similares en cuanto a su gráfica. A priori el grafico MSE parece indicar que con 3 variables: Lcavol, Lweight y Svi el error es mínimo, pero analizando el grafico CV,  se puede notar que se acercan las curvas, ya que intercambia el orden de la tercera y cuarta variable agregada, entonces lo que ocurre en MSE puede ser un caso particular para estos datos, ya que no es normal que el error disminuya tan rápidamente en la tercera variable. Entonces una mejor forma  de seleccionar las variables es elegir el punto de intersección de las curvas o un valor cercano a este, en este caso puede ser 4 o 5 variables.\n",
    "\n",
    "Esto permite una mejor generalización y disminuir la complejidad del problema, ya que como se nota, al incluir mas de 5 variables el error aumenta significativamente, provocando sobreajuste(overfitting) por demasiada información. En cualquier caso las mejores variables son invariantes para MSE comun o MSE con cross validation,  las cuales son Lcavol, Lweight, Svi, Lbph y  Pgg45."
   ]
  },
  {
   "cell_type": "markdown",
   "metadata": {},
   "source": [
    "### b) Backward Stepwise selection"
   ]
  },
  {
   "cell_type": "markdown",
   "metadata": {},
   "source": [
    "Este caso es muy similar al anterior, solo se realizan ciertas modificaciones en la función pero los criterios se mantienen. Se debe notar que ahora el eje de las variables representa las variables \"disponibles\" en el modelo."
   ]
  },
  {
   "cell_type": "code",
   "execution_count": 13,
   "metadata": {
    "collapsed": true
   },
   "outputs": [],
   "source": [
    "def bss(x, y, names_x, k = 10000, criterio = \"mse\"):\n",
    "    #p es el numero de variables(sin intercepto)\n",
    "\tp = x.shape[1]-1\n",
    "\tk = min(p, k)\n",
    "\tnames_x = np.array(names_x)\n",
    "    #variables restantes\n",
    "\tremaining = range(0,p)\n",
    "    #Selected en este caso contiene todas las variables incluido el intercepto\n",
    "\tselected = range(0, p+1)\n",
    "    #Variable que agrega secuencialmente las variables eliminadas, comienza con el intercepto\n",
    "\torder_del = [p]\n",
    "\tcurrent_score = 0.0\n",
    "\tbest_new_score = 0.0\n",
    "    #la condicion ahora es mientras queden almenos 2 variables\n",
    "\twhile remaining and len(selected)>=2 :\n",
    "\t\tscore_candidates = []\n",
    "\t\tfor candidate in remaining:\n",
    "            # Copia para evaluar subconjuntos de variables\n",
    "\t\t\tsel_copy = selected[:]\n",
    "\t\t\tmodel = lm.LinearRegression(fit_intercept=False)\n",
    "            #Se remueve el candidato a borrar\n",
    "\t\t\tsel_copy.remove(candidate)\n",
    "\t\t\tindexes = sel_copy\n",
    "            #Modelo de prediccion con el conjunto de variables sin el candidato\n",
    "\t\t\tx_train = x[:,indexes]\n",
    "\t\t\tpredictions_train = model.fit(x_train, y).predict(x_train)\n",
    "\t\t\tresiduals_train = predictions_train - y\n",
    "\t\t\tmse_candidate = np.mean(np.power(residuals_train, 2))\n",
    "\t\t\tmse_cv_candidate = MSE_Kfold(x_train,y)\n",
    "\t\t\tif criterio == \"mse\":\n",
    "\t\t\t\tscore_candidates.append((mse_candidate, candidate))\n",
    "\t\t\telif criterio == \"cv\":\n",
    "\t\t\t\tscore_candidates.append((mse_cv_candidate, candidate))\n",
    "\t\tscore_candidates.sort()\n",
    "\t\tscore_candidates[:] = score_candidates[::-1]\n",
    "        #En este caso el ultimo elemento representa el menor error de las variables restantes \n",
    "        #sin el candidato y por ende el candidato a borrar\n",
    "\t\tworst_new_score, worst_candidate = score_candidates.pop()\n",
    "        #Lo que se retorna es el orden de eliminacion\n",
    "\t\torder_del.append(worst_candidate)\n",
    "        #se quita la peor variablede la lista\n",
    "\t\tremaining.remove(worst_candidate)\n",
    "\t\tselected.remove(worst_candidate)\n",
    "\t\t#print \"selected = %s ...\"%names_x[best_candidate]\n",
    "\t\t#print \"totalvars=%d, mse = %f\"%(len(indexes),best_new_score)\n",
    "\treturn (order_del,selected)"
   ]
  },
  {
   "cell_type": "markdown",
   "metadata": {},
   "source": [
    "##### Gráficos y orden de eliminación de los predictores"
   ]
  },
  {
   "cell_type": "code",
   "execution_count": 14,
   "metadata": {
    "collapsed": false
   },
   "outputs": [
    {
     "name": "stdout",
     "output_type": "stream",
     "text": [
      "Orden eliminacion mse:  ['Gleason', 'Age', 'Lcp', 'Pgg45', 'Lbph', 'Svi', 'Lweight', 'Lcavol']\n",
      "Orden eliminacion cv:  ['Gleason', 'Age', 'Lcp', 'Pgg45', 'Svi', 'Lbph', 'Lweight', 'Lcavol']\n"
     ]
    },
    {
     "data": {
      "image/png": "[encoded data removed]",
      "text/plain": [
       "<matplotlib.figure.Figure at 0x92abdf0>"
      ]
     },
     "metadata": {},
     "output_type": "display_data"
    },
    {
     "data": {
      "image/png": "[encoded data removed]",
      "text/plain": [
       "<matplotlib.figure.Figure at 0x9046ab0>"
      ]
     },
     "metadata": {},
     "output_type": "display_data"
    }
   ],
   "source": [
    "bss_result_mse = bss(Xm,ym,names_regressors, criterio =\"mse\")\n",
    "bss_result_cv = bss(Xm,ym,names_regressors, criterio =\"cv\")\n",
    "print \"Orden eliminacion mse: \", [names_regressors[x] for i,x in enumerate(bss_result_mse[0][1:])]\n",
    "print \"Orden eliminacion cv: \", [names_regressors[x] for i,x in enumerate(bss_result_cv[0][1:])]\n",
    "PlotMSE(CalcularMse(bss_result_mse[0],Xm,ym,Xt,yt,\"bss\"), \"mse\",mode=\"bss\")\n",
    "PlotMSE(CalcularMse(bss_result_cv[0],Xm,ym,Xt,yt,\"bss\"), \"cv\",mode=\"bss\")"
   ]
  },
  {
   "cell_type": "markdown",
   "metadata": {},
   "source": [
    "En el caso de BSS, se puede apreciar que tanto para MSE como para Cross Validation el orden de eliminación es el mismo que el orden de selección en FSS. Además los errores son los mismos, con un costo mayor, ya que BSS debe manipular muchas variables desde el comienzo y desde ahí comenzar a descartar. FSS por su parte es mucho más rápido en ese sentido por que solo mira localmente en cada paso, produciendo los mismos resultados con menor computo. \n",
    "Nuevamente 4 o 5 variables entregan un resultado que se adecua muy bien, y para MSE  el mejor criterio está en seleccionar las variables:  Lcavol, Lweight y Svi ya que produce el menor error.\n",
    "Por otra parte, CV  cambia el orden de la tercera y cuarta variable como en FSS. En general las variables que no producen sobreajuste son Lcavol, Lweight, Svi, Lbph y Pgg45."
   ]
  },
  {
   "cell_type": "markdown",
   "metadata": {},
   "source": [
    "# 3) Regularización"
   ]
  },
  {
   "cell_type": "markdown",
   "metadata": {},
   "source": [
    "(a) En este caso se utiliza un regresion lineal con regularización usando ridge regression. $$\\hat \\beta{}^\\mathrm{ridge} = \\underset{\\beta}{\\mathrm{argmin}}\\left\\{\\sum_{i=1}^N(y_i - \\beta_0 - \\sum_{j=1}^p x_{ij}\\beta_j)^2 + \\lambda \\sum_{j=1}^p \\beta_j^2\\right\\}$$Se debe notar que se quita el intercepto, es decir, $\\beta_{0}$, ya que la función Ridge trabaja con los features concretos del dataset y el intercepto es estimado como: $$ \\beta_{0} = \\overline{y} = \\frac{1}{N} \\sum_{i=1}^{N} y_{i}$$ Si el intercepto no es quitado del término de penalización, puede provocar desplazamientos que eventualmente alterarían el origen del vector $Y$, por lo cual un desplazamiento \"c\" en los target $y_{i}$ no necesariamente provocaría un desplazamiento \"c\" en los valores predecidos $\\hat y_{i}$.\n",
    "\n",
    "En el siguiente caso se usa Ridge con distintos valores del parámetro de regularización  $\\lambda \\in [10^{-1},10^{4}]$ para determinar la importancia de las variables, mostrando asi los pesos asociados a cada variable, esto es sus coeficientes $\\beta$."
   ]
  },
  {
   "cell_type": "code",
   "execution_count": 15,
   "metadata": {
    "collapsed": false
   },
   "outputs": [
    {
     "data": {
      "image/png": "[encoded data removed]",
      "text/plain": [
       "<matplotlib.figure.Figure at 0x9be2c90>"
      ]
     },
     "metadata": {},
     "output_type": "display_data"
    }
   ],
   "source": [
    "plt.figure(figsize=(10,5))\n",
    "from sklearn.linear_model import Ridge\n",
    "#Se remueve intercepto\n",
    "X = X.drop('intercept', axis=1)\n",
    "Xtrain = X[istrain]\n",
    "ytrain = y[istrain]\n",
    "names_regressors = [\"Lcavol\", \"Lweight\", \"Age\", \"Lbph\", \"Svi\", \"Lcp\", \"Gleason\", \"Pgg45\"]\n",
    "alphas_ = np.logspace(4,-1,base=10)\n",
    "coefs = []\n",
    "#Fit intercet ajusta automaticamente el intercepto al promedio de ytrain\n",
    "model = Ridge(fit_intercept=True,solver='svd')\n",
    "for a in alphas_:\n",
    "    # se asigna el coeficiente de regularizacion \"a\".\n",
    "\tmodel.set_params(alpha=a)\n",
    "\tmodel.fit(Xtrain, ytrain)\n",
    "    #Se obtienen los cieficientes del modelo\n",
    "\tcoefs.append(model.coef_)\n",
    "ax = plt.gca()\n",
    "for y_arr, label in zip(np.squeeze(coefs).T, names_regressors):\n",
    "\t#print alphas_.shape\n",
    "\t#print y_arr.shape\n",
    "\tplt.plot(alphas_, y_arr, label=label)\n",
    "plt.legend()\n",
    "ax.set_xscale('log')\n",
    "ax.set_xlim(ax.get_xlim()[::-1]) # reverse axis\n",
    "plt.xlabel('lambda')\n",
    "plt.ylabel('weights')\n",
    "plt.title('Regularization Path RIDGE')\n",
    "plt.axis('tight')\n",
    "plt.legend(loc=2)\n",
    "plt.show()"
   ]
  },
  {
   "cell_type": "markdown",
   "metadata": {},
   "source": [
    "A partir del gráfico se puede determinar la importancia de cada variable en el modelo para cada valor de $\\lambda$. Según la formulación final de los $\\beta{}^\\mathrm{ridge}$, que contiene un termino $ \\frac{ d_{i}^{2}}{d_{i}^{2} + \\lambda}$, el peso de los coeficientes se ve directamente afectado en el denominador por el término de regularización, por ende carece de sentido utilizar $\\lambda$ demasiado grandes. Además, existe una clara separación de las 5 variables superiores en el gráfico a partir de $\\lambda \\in [10^{-1}, 10^{2}]$. Otro factor importante a considerar es que la variable Lcavol siempre tiene mayor peso sobre las demás a menos que $\\lambda$ sea demasiado grande como se mencionó anteriormente. Se sabe que Ridge acota en la dirección de las componentes principales, por lo mismo las variables con menor varianza se ven más afectadas. En este caso Lcavol, Svi y Lweight son menos afectadas por la penalización, por lo mismo se puede decir que son los estimadores con mayor variabilidad. \n",
    "Notar además que Ridge no elimina variables del modelo a menos que $\\lambda$ es infinito,en ese caso todos los coeficientes se vuelven cero."
   ]
  },
  {
   "cell_type": "markdown",
   "metadata": {},
   "source": [
    "#### (b)\n",
    "Ahora se utiliza Lasso con parámetro de regularización $\\lambda \\in [10^{1},10^{-2}]$ y se construye el siguiente grafico de los coeficientes del modelo en función de los distintos $\\lambda$ en el rango."
   ]
  },
  {
   "cell_type": "code",
   "execution_count": 16,
   "metadata": {
    "collapsed": false
   },
   "outputs": [
    {
     "data": {
      "image/png": "[encoded data removed]",
      "text/plain": [
       "<matplotlib.figure.Figure at 0x66964f0>"
      ]
     },
     "metadata": {},
     "output_type": "display_data"
    }
   ],
   "source": [
    "plt.figure(figsize=(10,5))\n",
    "from sklearn.linear_model import Lasso\n",
    "#Cambian los valores de lambda\n",
    "alphas_ = np.logspace(1,-2,base=10)\n",
    "coefs = []\n",
    "model = Lasso(fit_intercept=True)\n",
    "for a in alphas_:\n",
    "\tmodel.set_params(alpha=a)\n",
    "\tmodel.fit(Xtrain, ytrain)\n",
    "\tcoefs.append(model.coef_)\n",
    "ax = plt.gca()\n",
    "for y_arr, label in zip(np.squeeze(coefs).T, names_regressors):\n",
    "\t#print alphas_.shape\n",
    "\t#print y_arr.shape\n",
    "\tplt.plot(alphas_, y_arr, label=label)\n",
    "plt.legend()\n",
    "ax.set_xscale('log')\n",
    "ax.set_xlim(ax.get_xlim()[::-1]) # reverse axis\n",
    "plt.xlabel('lambda')\n",
    "plt.ylabel('weights')\n",
    "plt.title('Regularization Path LASSO')\n",
    "plt.axis('tight')\n",
    "plt.legend(loc=2)\n",
    "plt.show()"
   ]
  },
  {
   "cell_type": "markdown",
   "metadata": {},
   "source": [
    " Lasso al utilizar la norma $\\ell^{1}$, es mucho más estricto y por lo mismo $\\textbf{si}$ es capaz de eliminar variables del modelo al establecer sus coeficientes con valor cero. Los valores de $\\lambda$ en este caso deben ser menores a 1 para que se comience a notar distinción entre las variables más importantes.\n",
    " \n",
    "Al igual que en Ridge, las variables más relevantes son Lcavol, Svi y Lweight ya que Lasso tambien favorece a las de mayor variabilidad. Además es interesante notar que una variable no aparece en ningun modelo, esta es Gleason, ya que su coeficiente asociado permanece siempre en cero, por lo tanto su relevancia es mínima y según el Lasso puede ser perfectamente descartada.\n",
    "\n",
    "Luego de que $\\lambda < 10^{-1}$ , 3 variables son descartadas del modelo, estas son Gleason, Lcp y Age. Lasso es mucho más \"gráfico\" y efectivo al momento de elegir variables en regresión lineal, sin embargo con Ridge se puede determinar de igual forma un análisis similar pero requiere mayor esfuerzo e interpretación. Para ambos sin embargo, un valor de regularización adecuado es fundamental para un correcto estudio de las técnicas."
   ]
  },
  {
   "cell_type": "markdown",
   "metadata": {},
   "source": [
    "### (c)\n",
    "Se realiza un gráfico que muestra dos curvas, que corresponden al error de entrenamiento y error de pruebas en función del valor del parámetro de regularización. Esto permitirá establecer si la elección de variables de Ridge es adecuada y no produce sobreajuste."
   ]
  },
  {
   "cell_type": "code",
   "execution_count": 17,
   "metadata": {
    "collapsed": false
   },
   "outputs": [
    {
     "data": {
      "image/png": "[encoded data removed]",
      "text/plain": [
       "<matplotlib.figure.Figure at 0x9cc5f50>"
      ]
     },
     "metadata": {},
     "output_type": "display_data"
    }
   ],
   "source": [
    "plt.figure(figsize=(10,5))\n",
    "Xtest = X[np.logical_not(istrain)]\n",
    "ytest = y[np.logical_not(istrain)]\n",
    "alphas_ = np.logspace(2,-2,base=10)\n",
    "coefs = []\n",
    "model = Ridge(fit_intercept=True)\n",
    "#Se deben comparar ambos errores cuadraticos promedio.\n",
    "mse_test = []\n",
    "mse_train = []\n",
    "for a in alphas_:\n",
    "\tmodel.set_params(alpha=a)\n",
    "\tmodel.fit(Xtrain, ytrain)\n",
    "    #Se predicen los valores f(x) del modelo.\n",
    "\tyhat_train = model.predict(Xtrain)\n",
    "\tyhat_test = model.predict(Xtest)\n",
    "\tmse_train.append(np.mean(np.power(yhat_train - ytrain, 2)))\n",
    "\tmse_test.append(np.mean(np.power(yhat_test - ytest, 2)))\n",
    "ax = plt.gca()\n",
    "ax.annotate('Min MSE ('+  str(round(np.min(mse_test),3)) + ', '+ str(round(alphas_[np.argmin(mse_test)],3)) +' )' \n",
    "            , xy=(alphas_[np.argmin(mse_test)], np.min(mse_test)), xytext=(5, 0.55),\n",
    "            arrowprops=dict(facecolor='black', shrink=0.05),\n",
    "            )\n",
    "ax.plot(alphas_,mse_train,label='train error ridge')\n",
    "ax.plot(alphas_,mse_test,label='test error ridge')\n",
    "plt.legend(loc=1)\n",
    "plt.xlabel('lambda')\n",
    "plt.ylabel('MSE')\n",
    "plt.title('Error regularizacion RIDGE ')\n",
    "ax.set_xscale('log')\n",
    "ax.set_xlim(ax.get_xlim()[::-1])\n",
    "plt.show()"
   ]
  },
  {
   "cell_type": "markdown",
   "metadata": {},
   "source": [
    "Cuando el valor de regularización $\\lambda \\in [10, 10^{2}]$ las curvas son similares ya que toman valores cercanos entre si y sus pendientes son parecidas igualmente. Una vez que la penalización es menor, esto ocurre aproximadamente cuando $ \\lambda < 10$, se nota un sobreajuste del modelo en los datos de entrenamiento, ya que el error de entrenamiento es pequeño en comparación al de pruebas. \n",
    "\n",
    "Anteriormente se mencionó que cualquier valor para el parámetro de regularización bajo $10^{2}$ podía ser correcto, sin embargo con esta nueva información es claro que un buen criterio de elección para lambda está en $\\lambda \\approx 10$. Particularmente puede tomarse el punto donde se intersectan ambas curvas como valor de regularización ya que este es el punto de inflexión del error de pruebas."
   ]
  },
  {
   "cell_type": "markdown",
   "metadata": {},
   "source": [
    "### (d) \n",
    "Ahora se realiza un análisis similar con Lasso."
   ]
  },
  {
   "cell_type": "code",
   "execution_count": 18,
   "metadata": {
    "collapsed": false
   },
   "outputs": [
    {
     "data": {
      "image/png": "[encoded data removed]",
      "text/plain": [
       "<matplotlib.figure.Figure at 0x6919fb0>"
      ]
     },
     "metadata": {},
     "output_type": "display_data"
    }
   ],
   "source": [
    "plt.figure(figsize=(10,5))\n",
    "Xtest = X[np.logical_not(istrain)]\n",
    "ytest = y[np.logical_not(istrain)]\n",
    "alphas_ = np.logspace(0.5,-2,base=10)\n",
    "coefs = []\n",
    "model = Lasso(fit_intercept=True)\n",
    "mse_test = []\n",
    "mse_train = []\n",
    "for a in alphas_:\n",
    "\tmodel.set_params(alpha=a)\n",
    "\tmodel.fit(Xtrain, ytrain)\n",
    "\tyhat_train = model.predict(Xtrain)\n",
    "\tyhat_test = model.predict(Xtest)\n",
    "\tmse_train.append(np.mean(np.power(yhat_train - ytrain, 2)))\n",
    "\tmse_test.append(np.mean(np.power(yhat_test - ytest, 2)))\n",
    "ax = plt.gca()\n",
    "ax.annotate('Min MSE ('+  str(round(np.min(mse_test),3)) + ', '+ str(round(alphas_[np.argmin(mse_test)],3)) +' )' \n",
    "            , xy=(alphas_[np.argmin(mse_test)], np.min(mse_test)), xytext=(0.05, 0.7),\n",
    "            arrowprops=dict(facecolor='black', shrink=0.05),\n",
    "            )\n",
    "ax.plot(alphas_,mse_train,label='train error Lasso')\n",
    "ax.plot(alphas_,mse_test,label='test error Lasso')\n",
    "plt.legend(loc=1)\n",
    "plt.xlabel('lambda')\n",
    "plt.ylabel('MSE')\n",
    "plt.title('Error regularizacion LASSO ')\n",
    "ax.set_xscale('log')\n",
    "ax.set_xlim(ax.get_xlim()[::-1])\n",
    "plt.show()"
   ]
  },
  {
   "cell_type": "markdown",
   "metadata": {},
   "source": [
    "En este caso, el error de prueba es menor que el error de entrenamiento hasta un valor de $\\lambda \\approx 10^{-1}$, lo que indicaría que el método generaliza bastante bien. Observando el grafico de valor de regularizacion versus peso de los coeficientes, precisamente hasta $\\lambda \\approx 10^{-1}$ es donde se toma en consideración las mejores 5 variables. Valores de $\\lambda$ menores a ello, producen sobreajuste en los datos de entrenamiento, particularmente donde ocurre la intersección de las curvas, esto es debido a que se consideran más variables en el modelo. \n",
    "\n",
    "Por lo anteriormente señalado es factible tomar el valor de $\\lambda$ donde el MSE es menor en la curva de testing error,esto es en la vecindad de $\\lambda \\approx 10^{-1}$ apuntando preferiblemente hacia valores más grandes que este."
   ]
  },
  {
   "cell_type": "markdown",
   "metadata": {},
   "source": [
    "### (e)\n",
    "A continuación se muestran las iteraciones en busca de los mejores parametros basados en cross validation."
   ]
  },
  {
   "cell_type": "code",
   "execution_count": 19,
   "metadata": {
    "collapsed": false
   },
   "outputs": [
    {
     "name": "stdout",
     "output_type": "stream",
     "text": [
      "BEST PARAMETER=3.162278, MSE(CV)=1.795596\n",
      "BEST PARAMETER=0.976778, MSE(CV)=1.794396\n",
      "BEST PARAMETER=0.868511, MSE(CV)=1.755997\n",
      "BEST PARAMETER=0.772245, MSE(CV)=1.701616\n",
      "BEST PARAMETER=0.686649, MSE(CV)=1.635939\n",
      "BEST PARAMETER=0.610540, MSE(CV)=1.562205\n",
      "BEST PARAMETER=0.542868, MSE(CV)=1.485163\n",
      "BEST PARAMETER=0.482696, MSE(CV)=1.388573\n",
      "BEST PARAMETER=0.429193, MSE(CV)=1.302906\n",
      "BEST PARAMETER=0.381621, MSE(CV)=1.230129\n",
      "BEST PARAMETER=0.339322, MSE(CV)=1.171309\n",
      "BEST PARAMETER=0.301711, MSE(CV)=1.115142\n",
      "BEST PARAMETER=0.268270, MSE(CV)=1.067204\n",
      "BEST PARAMETER=0.238534, MSE(CV)=1.028790\n",
      "BEST PARAMETER=0.212095, MSE(CV)=0.998275\n",
      "BEST PARAMETER=0.188586, MSE(CV)=0.972845\n",
      "BEST PARAMETER=0.167683, MSE(CV)=0.949801\n",
      "BEST PARAMETER=0.149097, MSE(CV)=0.929215\n",
      "BEST PARAMETER=0.132571, MSE(CV)=0.911942\n",
      "BEST PARAMETER=0.117877, MSE(CV)=0.893873\n",
      "BEST PARAMETER=0.104811, MSE(CV)=0.876038\n",
      "BEST PARAMETER=0.093194, MSE(CV)=0.861643\n",
      "BEST PARAMETER=0.082864, MSE(CV)=0.847877\n",
      "BEST PARAMETER=0.073680, MSE(CV)=0.837029\n",
      "BEST PARAMETER=0.065513, MSE(CV)=0.828946\n",
      "BEST PARAMETER=0.058251, MSE(CV)=0.822884\n",
      "BEST PARAMETER=0.051795, MSE(CV)=0.818966\n",
      "BEST PARAMETER=0.046054, MSE(CV)=0.814125\n",
      "BEST PARAMETER=0.040949, MSE(CV)=0.806887\n",
      "BEST PARAMETER=0.036410, MSE(CV)=0.799588\n",
      "BEST PARAMETER=0.032375, MSE(CV)=0.792070\n",
      "BEST PARAMETER=0.028786, MSE(CV)=0.785868\n",
      "BEST PARAMETER=0.025595, MSE(CV)=0.780952\n",
      "BEST PARAMETER=0.022758, MSE(CV)=0.777110\n",
      "BEST PARAMETER=0.020236, MSE(CV)=0.773945\n",
      "BEST PARAMETER=0.017993, MSE(CV)=0.769477\n",
      "BEST PARAMETER=0.015999, MSE(CV)=0.766010\n",
      "BEST PARAMETER=0.014225, MSE(CV)=0.763340\n",
      "BEST PARAMETER=0.012649, MSE(CV)=0.761203\n",
      "BEST PARAMETER=0.011247, MSE(CV)=0.759662\n",
      "BEST PARAMETER=0.010000, MSE(CV)=0.758661\n"
     ]
    }
   ],
   "source": [
    "def MSE(y,yhat): return np.mean(np.power(y-yhat,2))\n",
    "alphas_ = np.logspace(0.5,-2,base=10)\n",
    "Xm = Xtrain.as_matrix()\n",
    "ym = ytrain.as_matrix()\n",
    "k_fold = cross_validation.KFold(len(Xm),10)\n",
    "best_cv_mse = float(\"inf\")\n",
    "model = Lasso(fit_intercept=True)\n",
    "for a in alphas_:\n",
    "\tmodel.set_params(alpha=a)\n",
    "\tmse_list_k10 = [MSE(model.fit(Xm[train], ym[train]).predict(Xm[val]), ym[val]) for train, val in k_fold]\n",
    "\tif np.mean(mse_list_k10) < best_cv_mse:\n",
    "\t\tbest_cv_mse = np.mean(mse_list_k10)\n",
    "\t\tbest_alpha = a\n",
    "\t\tprint \"BEST PARAMETER=%f, MSE(CV)=%f\"%(best_alpha,best_cv_mse)"
   ]
  },
  {
   "cell_type": "code",
   "execution_count": 20,
   "metadata": {
    "collapsed": false
   },
   "outputs": [
    {
     "name": "stdout",
     "output_type": "stream",
     "text": [
      "BEST PARAMETER=100.000000, MSE(CV)=0.999646\n",
      "BEST PARAMETER=82.864277, MSE(CV)=0.965780\n",
      "BEST PARAMETER=68.664885, MSE(CV)=0.935286\n",
      "BEST PARAMETER=56.898660, MSE(CV)=0.908007\n",
      "BEST PARAMETER=47.148664, MSE(CV)=0.883727\n",
      "BEST PARAMETER=39.069399, MSE(CV)=0.862205\n",
      "BEST PARAMETER=32.374575, MSE(CV)=0.843206\n",
      "BEST PARAMETER=26.826958, MSE(CV)=0.826516\n",
      "BEST PARAMETER=22.229965, MSE(CV)=0.811949\n",
      "BEST PARAMETER=18.420700, MSE(CV)=0.799351\n",
      "BEST PARAMETER=15.264180, MSE(CV)=0.788588\n",
      "BEST PARAMETER=12.648552, MSE(CV)=0.779537\n",
      "BEST PARAMETER=10.481131, MSE(CV)=0.772077\n",
      "BEST PARAMETER=8.685114, MSE(CV)=0.766076\n",
      "BEST PARAMETER=7.196857, MSE(CV)=0.761390\n",
      "BEST PARAMETER=5.963623, MSE(CV)=0.757863\n",
      "BEST PARAMETER=4.941713, MSE(CV)=0.755328\n",
      "BEST PARAMETER=4.094915, MSE(CV)=0.753618\n",
      "BEST PARAMETER=3.393222, MSE(CV)=0.752571\n",
      "BEST PARAMETER=2.811769, MSE(CV)=0.752036\n",
      "BEST PARAMETER=2.329952, MSE(CV)=0.751881\n"
     ]
    }
   ],
   "source": [
    "alphas_ = np.logspace(2,-2,base=10)\n",
    "k_fold = cross_validation.KFold(len(Xm),10)\n",
    "best_cv_mse = float(\"inf\")\n",
    "model = Ridge(fit_intercept=True)\n",
    "for a in alphas_:\n",
    "\tmodel.set_params(alpha=a)\n",
    "\tmse_list_k10 = [MSE(model.fit(Xm[train], ym[train]).predict(Xm[val]), ym[val]) for train, val in k_fold]\n",
    "\tif np.mean(mse_list_k10) < best_cv_mse:\n",
    "\t\tbest_cv_mse = np.mean(mse_list_k10)\n",
    "\t\tbest_alpha = a\n",
    "\t\tprint \"BEST PARAMETER=%f, MSE(CV)=%f\"%(best_alpha,best_cv_mse)"
   ]
  },
  {
   "cell_type": "markdown",
   "metadata": {},
   "source": [
    "La siguiente tabla describe los parametros obtenidos y su error cuadrático medio asociado.\n",
    "\n",
    "\n",
    "|      | Ridge   | Lasso |\n",
    "|------|------|------|\n",
    "|  $\\lambda$  | 2.3| 0.01 |\n",
    "|   MSE(CV) | 0.752| 0.759 |\n",
    "\n",
    "Como se aprecia, los valores de $\\lambda$ obtenidos no son cercanos a lo predicho en la aplicación directa de las técnicas. El error el mucho mayor en este caso. Esto sugiere que al usar validación cruzada no está ajustando correctamente el modelo y el parámetro de regularización no es estimado correctamente. Se puede decir que no provoca sobreajuste a los datos de entrenamiento, pero tampoco garantiza que los resultados sean buenos, debido al gran error presentado,entonces los resultados en el testing set son inciertos. \n",
    "\n",
    "Una causa de este problema puede ser el tamaño del conjunto de datos y su poca representatividad.\n"
   ]
  }
 ],
 "metadata": {
  "anaconda-cloud": {},
  "kernelspec": {
   "display_name": "Python [Root]",
   "language": "python",
   "name": "Python [Root]"
  },
  "language_info": {
   "codemirror_mode": {
    "name": "ipython",
    "version": 2
   },
   "file_extension": ".py",
   "mimetype": "text/x-python",
   "name": "python",
   "nbconvert_exporter": "python",
   "pygments_lexer": "ipython2",
   "version": "2.7.12"
  }
 },
 "nbformat": 4,
 "nbformat_minor": 0
}
