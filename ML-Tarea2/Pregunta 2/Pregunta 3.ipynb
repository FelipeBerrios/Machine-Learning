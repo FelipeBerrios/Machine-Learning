{
 "cells": [
  {
   "cell_type": "markdown",
   "metadata": {},
   "source": [
    "# Pregunta 3"
   ]
  },
  {
   "cell_type": "markdown",
   "metadata": {},
   "source": [
    "#### a) En primer lugar se genera la matriz dispersa leyendo el archivo de skill de los usuarios."
   ]
  },
  {
   "cell_type": "code",
   "execution_count": 30,
   "metadata": {
    "collapsed": false
   },
   "outputs": [],
   "source": [
    "import numpy as np\n",
    "import matplotlib.mlab as mlab\n",
    "import matplotlib.pyplot as plt\n",
    "from scipy.sparse import csr_matrix, hstack\n",
    "from sklearn.cross_validation import train_test_split\n",
    "\n",
    "%matplotlib inline\n",
    "\n",
    "def CrearSparse():\n",
    "    row, col, data, linea = [], [], [], []\n",
    "    lineas = open(\"user_skill\").readlines();\n",
    "    N = len(lineas)\n",
    "    D = len(open(\"skill_id\").readlines());\n",
    "    for n in lineas:\n",
    "        linea = n.split(\":\")\n",
    "        user=int(linea[0])\n",
    "        features = linea[1].split(\"\\n\")[0].split(\",\")\n",
    "        features = map(int, features)\n",
    "        for i in features:\n",
    "            row.append(user)\n",
    "            col.append(i)\n",
    "            data.append(1)\n",
    "    \n",
    "    row = np.array(row)\n",
    "    col = np.array(col)\n",
    "    data = np.array(data)\n",
    "    Z = csr_matrix((data, (row, col)), shape=(N, D))\n",
    "    return Z\n",
    "        \n",
    "Z = CrearSparse()\n"
   ]
  },
  {
   "cell_type": "markdown",
   "metadata": {},
   "source": [
    "#### b) Se generan las matrices de entrenamiento y de prueba, para ello se utiliza la función \"train_test_split\" de sklearn que divide aleatoriamente los datos según la semilla que se le pase como parámetro."
   ]
  },
  {
   "cell_type": "code",
   "execution_count": 37,
   "metadata": {
    "collapsed": false
   },
   "outputs": [
    {
     "data": {
      "text/plain": [
       "(1973, 14544)"
      ]
     },
     "execution_count": 37,
     "metadata": {},
     "output_type": "execute_result"
    }
   ],
   "source": [
    "Z_tr, Z_ts = train_test_split(Z, test_size=0.25, random_state=0)\n",
    "Z_ts.shape"
   ]
  },
  {
   "cell_type": "code",
   "execution_count": 32,
   "metadata": {
    "collapsed": false
   },
   "outputs": [],
   "source": [
    "competencias = Z.sum(axis=0)"
   ]
  },
  {
   "cell_type": "markdown",
   "metadata": {},
   "source": [
    "#### c)  Se crea un gráfico para visualizar el número de usuarios que declara cada competencia. Debido a que son muchas competencias y además están en distintos órdenes de magnitud, se opta por un gráfico logarítmico."
   ]
  },
  {
   "cell_type": "code",
   "execution_count": 33,
   "metadata": {
    "collapsed": false
   },
   "outputs": [
    {
     "data": {
      "text/plain": [
       "[<matplotlib.lines.Line2D at 0x8732550>]"
      ]
     },
     "execution_count": 33,
     "metadata": {},
     "output_type": "execute_result"
    },
    {
     "data": {
      "image/png": "[encoded data removed]",
      "text/plain": [
       "<matplotlib.figure.Figure at 0x29019d0>"
      ]
     },
     "metadata": {},
     "output_type": "display_data"
    }
   ],
   "source": [
    "plt.semilogy(competencias.A1)"
   ]
  },
  {
   "cell_type": "markdown",
   "metadata": {},
   "source": [
    "#### d) Se escoge en este caso la séptima columna que corresponde a PHP para ser evaluada y estimada por los clasificadores."
   ]
  },
  {
   "cell_type": "code",
   "execution_count": 34,
   "metadata": {
    "collapsed": false
   },
   "outputs": [],
   "source": [
    "y_tr = Z_tr.getcol(6).A.T[0]\n",
    "# notar como se escoge indice print y_tr[25,0]\n",
    "X_tr = hstack([Z_tr[:,0:6],Z_tr[:,6+1:]]).tocsr()\n",
    "y_ts = Z_ts.getcol(6).A.T[0]\n",
    "X_ts = hstack([Z_ts[:,0:6],Z_ts[:,6+1:]]).tocsr()"
   ]
  },
  {
   "cell_type": "markdown",
   "metadata": {},
   "source": [
    "#### e)  A continuación se definen los clasificadores a utilizar, que corresponden a Bernoulli, Multinomial NB, regresión logística, SVM y KNN."
   ]
  },
  {
   "cell_type": "code",
   "execution_count": 35,
   "metadata": {
    "collapsed": false
   },
   "outputs": [],
   "source": [
    "from sklearn.metrics import classification_report\n",
    "from sklearn.naive_bayes import BernoulliNB\n",
    "from sklearn.naive_bayes import MultinomialNB\n",
    "from sklearn.linear_model import LogisticRegression\n",
    "from sklearn.svm import LinearSVC\n",
    "from sklearn.neighbors import KNeighborsClassifier\n",
    "\n",
    "def score_the_model(model,x,y,xt,yt,text):\n",
    "    acc_tr = model.score(x,y)\n",
    "    acc_test = model.score(xt,yt)\n",
    "    print \"Training Accuracy %s: %f\"%(text,acc_tr)\n",
    "    print \"Test Accuracy %s: %f\"%(text,acc_test)\n",
    "    print \"Detailed Analysis Testing Results ...\"\n",
    "    print(classification_report(yt, model.predict(xt), target_names=['+','-']))\n",
    "    \n",
    "def do_NAIVE_BAYES(x,y,xt,yt):\n",
    "    model = BernoulliNB()\n",
    "    model = model.fit(x, y)\n",
    "    score_the_model(model,x,y,xt,yt,\"BernoulliNB\")\n",
    "    return model\n",
    "\n",
    "def do_MULTINOMIAL(x,y,xt,yt):\n",
    "    model = MultinomialNB()\n",
    "    model = model.fit(x, y)\n",
    "    score_the_model(model,x,y,xt,yt,\"MULTINOMIAL\")\n",
    "    return model\n",
    "\n",
    "def do_LOGIT(x,y,xt,yt):\n",
    "    model = LogisticRegression(penalty='l2')\n",
    "    model = model.fit(x, y)\n",
    "    score_the_model(model,x,y,xt,yt,\"LOGISTIC\")\n",
    "    \n",
    "def do_SVM(x,y,xt,yt):\n",
    "    model = LinearSVC()\n",
    "    model = model.fit(x, y)\n",
    "    score_the_model(model,x,y,xt,yt,\"SVM\")\n",
    "\n",
    "def do_KNN(x,y,xt,yt):\n",
    "    model = KNeighborsClassifier()\n",
    "    model = model.fit(x, y)\n",
    "    score_the_model(model,x,y,xt,yt,\"K-NN\")"
   ]
  },
  {
   "cell_type": "code",
   "execution_count": 36,
   "metadata": {
    "collapsed": false
   },
   "outputs": [
    {
     "name": "stdout",
     "output_type": "stream",
     "text": [
      "Training Accuracy K-NN: 0.918540\n",
      "Test Accuracy K-NN: 0.915357\n",
      "Detailed Analysis Testing Results ...\n",
      "             precision    recall  f1-score   support\n",
      "\n",
      "          +       0.92      0.99      0.95      1718\n",
      "          -       0.87      0.40      0.55       255\n",
      "\n",
      "avg / total       0.91      0.92      0.90      1973\n",
      "\n",
      "----------------------------------------------------------\n",
      "Training Accuracy BernoulliNB: 0.914315\n",
      "Test Accuracy BernoulliNB: 0.901673\n",
      "Detailed Analysis Testing Results ...\n",
      "             precision    recall  f1-score   support\n",
      "\n",
      "          +       0.95      0.94      0.94      1718\n",
      "          -       0.62      0.63      0.62       255\n",
      "\n",
      "avg / total       0.90      0.90      0.90      1973\n",
      "\n",
      "----------------------------------------------------------\n",
      "Training Accuracy MULTINOMIAL: 0.906878\n",
      "Test Accuracy MULTINOMIAL: 0.881399\n",
      "Detailed Analysis Testing Results ...\n",
      "             precision    recall  f1-score   support\n",
      "\n",
      "          +       0.97      0.89      0.93      1718\n",
      "          -       0.53      0.79      0.63       255\n",
      "\n",
      "avg / total       0.91      0.88      0.89      1973\n",
      "\n",
      "----------------------------------------------------------\n",
      "Training Accuracy LOGISTIC: 0.981071\n",
      "Test Accuracy LOGISTIC: 0.934617\n",
      "Detailed Analysis Testing Results ...\n",
      "             precision    recall  f1-score   support\n",
      "\n",
      "          +       0.96      0.97      0.96      1718\n",
      "          -       0.77      0.71      0.74       255\n",
      "\n",
      "avg / total       0.93      0.93      0.93      1973\n",
      "\n",
      "----------------------------------------------------------\n",
      "Training Accuracy SVM: 0.996789\n",
      "Test Accuracy SVM: 0.924480\n",
      "Detailed Analysis Testing Results ...\n",
      "             precision    recall  f1-score   support\n",
      "\n",
      "          +       0.95      0.96      0.96      1718\n",
      "          -       0.71      0.69      0.70       255\n",
      "\n",
      "avg / total       0.92      0.92      0.92      1973\n",
      "\n"
     ]
    }
   ],
   "source": [
    "do_KNN(X_tr, y_tr, X_ts, y_ts)\n",
    "print '----------------------------------------------------------'\n",
    "do_NAIVE_BAYES(X_tr, y_tr, X_ts, y_ts)\n",
    "print '----------------------------------------------------------'\n",
    "do_MULTINOMIAL(X_tr, y_tr, X_ts, y_ts)\n",
    "print '----------------------------------------------------------'\n",
    "do_LOGIT(X_tr, y_tr, X_ts, y_ts)\n",
    "print '----------------------------------------------------------'\n",
    "do_SVM(X_tr, y_tr, X_ts, y_ts)\n"
   ]
  },
  {
   "cell_type": "markdown",
   "metadata": {},
   "source": [
    "Como se aprecia en las tablas, el mejor resultado se obtiene mediante regresión logística y SVM, sin embargo estas dos técnicas tienden a sobre ajustar, debido a que se requieren un ajuste de hiperparametros, ya que al ser un espacio de dimensiones tan grande(14544) los hiperplanos que forman separan casi perfectamente el espacio de características en los datos de entrenamiento formando así \"hard margin\". Aun así, siguen siendo técnicas efectivas debido a la naturaleza y simplicidad. Los métodos Naive Bayes generalizan de buena manera y obtienen resultados levemente peores que RL y SVM. \n",
    "\n",
    "Finalmente KNN es uno de los métodos para clasificación más simples, y que en este caso funciona muy bien, a pesar que KNN en un espacio de alta dimensionalidad puede tener un gran error, ya que los puntos que representan los datos están muy dispersos en el espacio, la tarea de agrupar vecinos basado en su cercanía se torna compleja, y si los datos no están muy compactados, se pierde la noción de clases. Afortunadamente este no es el caso, y KNN presenta buenos resultados en términos de complejidad y eficacia.\n",
    "\n",
    "La cantidad de datos es mucho menor que el número de características, por ello la densidad que ocupan los datos en el espacio es muy pequeña, esto muestra cómo afecta la maldición de la dimensionalidad a los algoritmos de clasificación, particularmente a los que se basan en medidas de longitud como la distancia euclidiana al lidiar con problemas de esta naturaleza."
   ]
  }
 ],
 "metadata": {
  "anaconda-cloud": {},
  "kernelspec": {
   "display_name": "Python [Root]",
   "language": "python",
   "name": "Python [Root]"
  },
  "language_info": {
   "codemirror_mode": {
    "name": "ipython",
    "version": 2
   },
   "file_extension": ".py",
   "mimetype": "text/x-python",
   "name": "python",
   "nbconvert_exporter": "python",
   "pygments_lexer": "ipython2",
   "version": "2.7.12"
  }
 },
 "nbformat": 4,
 "nbformat_minor": 0
}
